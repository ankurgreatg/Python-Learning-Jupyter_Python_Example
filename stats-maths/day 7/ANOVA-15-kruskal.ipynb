{
 "cells": [
  {
   "cell_type": "code",
   "execution_count": 1,
   "id": "460c23be-14a4-499d-b6de-03f238858b5a",
   "metadata": {},
   "outputs": [],
   "source": [
    "import numpy as np\n",
    "import pandas as pd\n",
    "import matplotlib.pyplot as plt\n",
    "from scipy.stats import kruskal, chi2"
   ]
  },
  {
   "cell_type": "code",
   "execution_count": 2,
   "id": "7fdd90b5-0ce5-4305-bb68-7d33222e83fa",
   "metadata": {},
   "outputs": [],
   "source": [
    "# Set the random seed for reproducibility\n",
    "np.random.seed(42)"
   ]
  },
  {
   "cell_type": "code",
   "execution_count": 3,
   "id": "abfc4747-f107-4f1f-8100-141b36b46078",
   "metadata": {},
   "outputs": [],
   "source": [
    "# Generate synthetic data\n",
    "data = {\n",
    "    'Category': np.repeat(['A', 'B', 'C', 'D'], 25),\n",
    "    'Value': np.hstack([\n",
    "        np.random.normal(loc=5, scale=1, size=25),\n",
    "        np.random.normal(loc=5.5, scale=1.2, size=25),\n",
    "        np.random.normal(loc=6, scale=0.8, size=25),\n",
    "        np.random.normal(loc=5.8, scale=1.1, size=25)\n",
    "    ])\n",
    "}"
   ]
  },
  {
   "cell_type": "code",
   "execution_count": 4,
   "id": "98a6c185-e8dc-4381-bb80-6c84f9c30a60",
   "metadata": {},
   "outputs": [],
   "source": [
    "df = pd.DataFrame(data)"
   ]
  },
  {
   "cell_type": "code",
   "execution_count": 5,
   "id": "77af31e4-6e88-467e-b9eb-f94bb32abe91",
   "metadata": {},
   "outputs": [
    {
     "data": {
      "text/html": [
       "<div>\n",
       "<style scoped>\n",
       "    .dataframe tbody tr th:only-of-type {\n",
       "        vertical-align: middle;\n",
       "    }\n",
       "\n",
       "    .dataframe tbody tr th {\n",
       "        vertical-align: top;\n",
       "    }\n",
       "\n",
       "    .dataframe thead th {\n",
       "        text-align: right;\n",
       "    }\n",
       "</style>\n",
       "<table border=\"1\" class=\"dataframe\">\n",
       "  <thead>\n",
       "    <tr style=\"text-align: right;\">\n",
       "      <th></th>\n",
       "      <th>Category</th>\n",
       "      <th>Value</th>\n",
       "    </tr>\n",
       "  </thead>\n",
       "  <tbody>\n",
       "    <tr>\n",
       "      <th>0</th>\n",
       "      <td>A</td>\n",
       "      <td>5.496714</td>\n",
       "    </tr>\n",
       "    <tr>\n",
       "      <th>1</th>\n",
       "      <td>A</td>\n",
       "      <td>4.861736</td>\n",
       "    </tr>\n",
       "    <tr>\n",
       "      <th>2</th>\n",
       "      <td>A</td>\n",
       "      <td>5.647689</td>\n",
       "    </tr>\n",
       "    <tr>\n",
       "      <th>3</th>\n",
       "      <td>A</td>\n",
       "      <td>6.523030</td>\n",
       "    </tr>\n",
       "    <tr>\n",
       "      <th>4</th>\n",
       "      <td>A</td>\n",
       "      <td>4.765847</td>\n",
       "    </tr>\n",
       "    <tr>\n",
       "      <th>...</th>\n",
       "      <td>...</td>\n",
       "      <td>...</td>\n",
       "    </tr>\n",
       "    <tr>\n",
       "      <th>95</th>\n",
       "      <td>D</td>\n",
       "      <td>4.190134</td>\n",
       "    </tr>\n",
       "    <tr>\n",
       "      <th>96</th>\n",
       "      <td>D</td>\n",
       "      <td>6.125732</td>\n",
       "    </tr>\n",
       "    <tr>\n",
       "      <th>97</th>\n",
       "      <td>D</td>\n",
       "      <td>6.087161</td>\n",
       "    </tr>\n",
       "    <tr>\n",
       "      <th>98</th>\n",
       "      <td>D</td>\n",
       "      <td>5.805625</td>\n",
       "    </tr>\n",
       "    <tr>\n",
       "      <th>99</th>\n",
       "      <td>D</td>\n",
       "      <td>5.541954</td>\n",
       "    </tr>\n",
       "  </tbody>\n",
       "</table>\n",
       "<p>100 rows × 2 columns</p>\n",
       "</div>"
      ],
      "text/plain": [
       "   Category     Value\n",
       "0         A  5.496714\n",
       "1         A  4.861736\n",
       "2         A  5.647689\n",
       "3         A  6.523030\n",
       "4         A  4.765847\n",
       "..      ...       ...\n",
       "95        D  4.190134\n",
       "96        D  6.125732\n",
       "97        D  6.087161\n",
       "98        D  5.805625\n",
       "99        D  5.541954\n",
       "\n",
       "[100 rows x 2 columns]"
      ]
     },
     "execution_count": 5,
     "metadata": {},
     "output_type": "execute_result"
    }
   ],
   "source": [
    "df"
   ]
  },
  {
   "cell_type": "markdown",
   "id": "f8d98328-b3f2-479c-a82b-a066c91ceb49",
   "metadata": {},
   "source": [
    "#### Perform the Kruskal-Wallis Test Manually\n",
    "- Rank the data: Combine all groups, rank the values, and then split them back into their respective groups.\n",
    "- Calculate the test statistic."
   ]
  },
  {
   "cell_type": "code",
   "execution_count": 6,
   "id": "b9459bc8-52ec-4e73-a70f-3c5a8a524c86",
   "metadata": {},
   "outputs": [],
   "source": [
    "# Rank the data\n",
    "df['Rank'] = df['Value'].rank(method='average')"
   ]
  },
  {
   "cell_type": "code",
   "execution_count": 7,
   "id": "fcfd76a6-bbda-4245-9657-e14728b5f2e8",
   "metadata": {},
   "outputs": [],
   "source": [
    "# Calculate the sum of ranks for each group\n",
    "rank_sums = df.groupby('Category')['Rank'].sum()"
   ]
  },
  {
   "cell_type": "code",
   "execution_count": 8,
   "id": "a3eb6583-08e5-4b13-ab3d-b925b9c91931",
   "metadata": {},
   "outputs": [],
   "source": [
    "# Number of observations per group\n",
    "n = df.groupby('Category').size()"
   ]
  },
  {
   "cell_type": "code",
   "execution_count": 9,
   "id": "056dc76c-2aa0-4936-905e-45322b2c0ada",
   "metadata": {},
   "outputs": [],
   "source": [
    "# Total number of observations\n",
    "N = len(df)"
   ]
  },
  {
   "cell_type": "code",
   "execution_count": 10,
   "id": "dda40acb-f747-4f41-981f-da1d3200c10d",
   "metadata": {},
   "outputs": [
    {
     "name": "stdout",
     "output_type": "stream",
     "text": [
      "Kruskal-Wallis H statistic: 23.1402\n"
     ]
    }
   ],
   "source": [
    "# Kruskal-Wallis test statistic\n",
    "H = (12 / (N * (N + 1)) * sum((rank_sums ** 2) / n)) - 3 * (N + 1)\n",
    "print(f\"Kruskal-Wallis H statistic: {H:.4f}\")"
   ]
  },
  {
   "cell_type": "markdown",
   "id": "98edf15d-56c1-4efe-bec1-43537fb22ac7",
   "metadata": {},
   "source": [
    "#### Calculate the p-value\n",
    "The p-value is calculated based on the chi-square distribution with \n",
    "𝑘−1 degrees of freedom, where k is the number of groups."
   ]
  },
  {
   "cell_type": "code",
   "execution_count": 11,
   "id": "fe096829-d814-4631-8469-93754d6e0dbe",
   "metadata": {},
   "outputs": [
    {
     "name": "stdout",
     "output_type": "stream",
     "text": [
      "P-value: 0.0000\n"
     ]
    }
   ],
   "source": [
    "# Degrees of freedom\n",
    "df_k = len(rank_sums) - 1\n",
    "\n",
    "# p-value\n",
    "p_value = 1 - chi2.cdf(H, df_k)\n",
    "print(f\"P-value: {p_value:.4f}\")"
   ]
  },
  {
   "cell_type": "markdown",
   "id": "eabc16ac-8bfb-4997-ad18-3179b84fee96",
   "metadata": {},
   "source": [
    "#### Plot the Chi-Square Distribution"
   ]
  },
  {
   "cell_type": "code",
   "execution_count": 12,
   "id": "ebd8b256-0db6-43a4-81bc-b84b99b0cd54",
   "metadata": {},
   "outputs": [
    {
     "data": {
      "image/png": "[encoded data removed]",
      "text/plain": [
       "<Figure size 1000x600 with 1 Axes>"
      ]
     },
     "metadata": {},
     "output_type": "display_data"
    }
   ],
   "source": [
    "# Critical value for 95% significance level\n",
    "alpha = 0.05\n",
    "chi2_critical = chi2.ppf(1 - alpha, df_k)\n",
    "\n",
    "# Plot the chi-square distribution\n",
    "x = np.linspace(0, 20, 1000)\n",
    "y = chi2.pdf(x, df_k)\n",
    "\n",
    "plt.figure(figsize=(10, 6))\n",
    "plt.plot(x, y, label='Chi-square distribution')\n",
    "plt.axvline(H, color='r', linestyle='--', label=f'H statistic: {H:.4f}')\n",
    "plt.axvline(chi2_critical, color='g', linestyle='--', label=f'Critical value (95%): {chi2_critical:.4f}')\n",
    "plt.title('Chi-square distribution with H statistic and Critical Value')\n",
    "plt.xlabel('Chi-square value')\n",
    "plt.ylabel('Probability Density')\n",
    "plt.legend()\n",
    "plt.grid(True)\n",
    "plt.show()\n"
   ]
  },
  {
   "cell_type": "markdown",
   "id": "606947e1-7dbe-4025-b3d2-201168398bf7",
   "metadata": {},
   "source": [
    "#### Verify the Results Using scipy.stats.kruskal"
   ]
  },
  {
   "cell_type": "code",
   "execution_count": 13,
   "id": "6548c8cb-3bce-4f88-bdb1-68ac775a56e9",
   "metadata": {},
   "outputs": [],
   "source": [
    "# Perform Kruskal-Wallis test using scipy\n",
    "H_scipy, p_value_scipy = kruskal(\n",
    "    df[df['Category'] == 'A']['Value'],\n",
    "    df[df['Category'] == 'B']['Value'],\n",
    "    df[df['Category'] == 'C']['Value'],\n",
    "    df[df['Category'] == 'D']['Value']\n",
    ")"
   ]
  },
  {
   "cell_type": "code",
   "execution_count": 14,
   "id": "3fbf9648-8829-4ad7-8baf-1b3b2afde5b4",
   "metadata": {},
   "outputs": [
    {
     "name": "stdout",
     "output_type": "stream",
     "text": [
      "Scipy Kruskal-Wallis H statistic: 23.1402\n",
      "Scipy P-value: 0.0000\n"
     ]
    }
   ],
   "source": [
    "print(f\"Scipy Kruskal-Wallis H statistic: {H_scipy:.4f}\")\n",
    "print(f\"Scipy P-value: {p_value_scipy:.4f}\")"
   ]
  },
  {
   "cell_type": "code",
   "execution_count": null,
   "id": "ad831c35-fdaa-44e0-b794-a508fbc87b9b",
   "metadata": {},
   "outputs": [],
   "source": []
  }
 ],
 "metadata": {
  "kernelspec": {
   "display_name": "Python 3 (ipykernel)",
   "language": "python",
   "name": "python3"
  },
  "language_info": {
   "codemirror_mode": {
    "name": "ipython",
    "version": 3
   },
   "file_extension": ".py",
   "mimetype": "text/x-python",
   "name": "python",
   "nbconvert_exporter": "python",
   "pygments_lexer": "ipython3",
   "version": "3.9.13"
  }
 },
 "nbformat": 4,
 "nbformat_minor": 5
}
