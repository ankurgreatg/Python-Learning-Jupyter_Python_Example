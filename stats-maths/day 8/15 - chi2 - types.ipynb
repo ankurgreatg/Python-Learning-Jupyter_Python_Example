{
 "cells": [
  {
   "cell_type": "markdown",
   "id": "ee6290b1-716d-45aa-88ef-684e73c54449",
   "metadata": {},
   "source": [
    "#### Goodness of Fit Chi-Squared Test:\n",
    "This test is used to determine whether the observed frequency distribution of a variable matches a theoretically expected distribution."
   ]
  },
  {
   "cell_type": "code",
   "execution_count": 12,
   "id": "3537f5cf-87ad-4141-a1f5-3608866615e2",
   "metadata": {},
   "outputs": [],
   "source": [
    "import numpy as np\n",
    "from scipy.stats import chisquare\n",
    "import scipy.stats as stats"
   ]
  },
  {
   "cell_type": "code",
   "execution_count": 13,
   "id": "e8c07a11-1207-4339-b20f-47c63cee1e1d",
   "metadata": {},
   "outputs": [],
   "source": [
    "# Dummy data\n",
    "observed = np.array([25, 20, 15, 10, 30])\n",
    "expected = np.array([20, 20, 20, 20, 20])  # Expected equal frequencies"
   ]
  },
  {
   "cell_type": "code",
   "execution_count": 14,
   "id": "1ba7ac62-77c4-402b-8d74-7df14cc45bf7",
   "metadata": {},
   "outputs": [
    {
     "data": {
      "text/plain": [
       "4"
      ]
     },
     "execution_count": 14,
     "metadata": {},
     "output_type": "execute_result"
    }
   ],
   "source": [
    "# Degrees of freedom (k - 1)\n",
    "df = len(observed) - 1\n",
    "df"
   ]
  },
  {
   "cell_type": "code",
   "execution_count": 15,
   "id": "c8bbccee-ac01-4522-bb3a-74cd04c0407c",
   "metadata": {},
   "outputs": [
    {
     "name": "stdout",
     "output_type": "stream",
     "text": [
      "Degrees of freedom: 4\n",
      "Critical value: 9.487729036781154\n"
     ]
    }
   ],
   "source": [
    "# Critical value for 95% significance level\n",
    "critical_value = stats.chi2.ppf(0.95, df)\n",
    "\n",
    "print(\"Degrees of freedom:\", df)\n",
    "print(\"Critical value:\", critical_value)"
   ]
  },
  {
   "cell_type": "code",
   "execution_count": 16,
   "id": "c7c38b9f-a292-4bf4-9af3-e402a55a7cb4",
   "metadata": {},
   "outputs": [],
   "source": [
    "# Perform chi-squared test\n",
    "chi2, p = chisquare(observed, expected)\n"
   ]
  },
  {
   "cell_type": "code",
   "execution_count": 17,
   "id": "a99d5d2e-b7aa-4f53-8d8d-43916b6eaa78",
   "metadata": {},
   "outputs": [
    {
     "name": "stdout",
     "output_type": "stream",
     "text": [
      "Chi-squared statistic: 12.5\n",
      "p-value: 0.013995792487650894\n"
     ]
    }
   ],
   "source": [
    "print(\"Chi-squared statistic:\", chi2)\n",
    "print(\"p-value:\", p)"
   ]
  },
  {
   "cell_type": "markdown",
   "id": "aa1187ea-b4a9-4602-9315-8950f1f225b0",
   "metadata": {},
   "source": [
    "#### Chi-Squared Test for Independence"
   ]
  },
  {
   "cell_type": "code",
   "execution_count": 22,
   "id": "d6ac08b0-f6bb-4d6d-802b-345057f9d296",
   "metadata": {},
   "outputs": [],
   "source": [
    "from scipy.stats import chi2_contingency"
   ]
  },
  {
   "cell_type": "code",
   "execution_count": 23,
   "id": "f2fb136c-06e8-42ad-8c03-d93f58170f42",
   "metadata": {},
   "outputs": [],
   "source": [
    "# Dummy data\n",
    "observed = np.array([[10, 20, 30],\n",
    "                     [15, 25, 35]])"
   ]
  },
  {
   "cell_type": "code",
   "execution_count": 24,
   "id": "f1186f3f-3ee3-4560-9425-c66df265fa29",
   "metadata": {},
   "outputs": [],
   "source": [
    "# Degrees of freedom\n",
    "df = (observed.shape[0] - 1) * (observed.shape[1] - 1)"
   ]
  },
  {
   "cell_type": "code",
   "execution_count": 25,
   "id": "88d70177-36b2-41d7-b6a6-7cf535ac6db7",
   "metadata": {},
   "outputs": [
    {
     "name": "stdout",
     "output_type": "stream",
     "text": [
      "Degrees of freedom: 2\n",
      "Critical value: 5.991464547107979\n"
     ]
    }
   ],
   "source": [
    "# Critical value for 95% significance level\n",
    "critical_value = stats.chi2.ppf(0.95, df)\n",
    "\n",
    "print(\"Degrees of freedom:\", df)\n",
    "print(\"Critical value:\", critical_value)"
   ]
  },
  {
   "cell_type": "code",
   "execution_count": 26,
   "id": "ff8b2ff9-6f8d-4a45-bda6-77b763190dd9",
   "metadata": {},
   "outputs": [],
   "source": [
    "# Perform chi-squared test for independence\n",
    "chi2, p, dof, expected = chi2_contingency(observed)\n"
   ]
  },
  {
   "cell_type": "code",
   "execution_count": 27,
   "id": "881c1303-cc2c-418c-9479-7c5b1c234ef8",
   "metadata": {},
   "outputs": [
    {
     "name": "stdout",
     "output_type": "stream",
     "text": [
      "Null hypothesis: There is no association between the two categorical variables.\n",
      "Chi-squared statistic: 0.27692307692307694\n",
      "p-value: 0.870696738961232\n",
      "Degrees of freedom: 2\n",
      "Expected frequencies table:\n",
      " [[11.11111111 20.         28.88888889]\n",
      " [13.88888889 25.         36.11111111]]\n",
      "Critical value: 5.991464547107979\n"
     ]
    }
   ],
   "source": [
    "print(\"Null hypothesis: There is no association between the two categorical variables.\")\n",
    "print(\"Chi-squared statistic:\", chi2)\n",
    "print(\"p-value:\", p)\n",
    "print(\"Degrees of freedom:\", dof)\n",
    "print(\"Expected frequencies table:\\n\", expected)\n",
    "print(\"Critical value:\", critical_value)"
   ]
  },
  {
   "cell_type": "markdown",
   "id": "4262cc2d-ffce-4065-ab59-122524ff858b",
   "metadata": {},
   "source": [
    "#### Chi-Squared Test for Homogeneity"
   ]
  },
  {
   "cell_type": "code",
   "execution_count": 28,
   "id": "edf98b17-b53d-425f-803c-fcd7b2d65069",
   "metadata": {},
   "outputs": [],
   "source": [
    "# Dummy data\n",
    "observed = np.array([[10, 20, 30],\n",
    "                     [15, 25, 35],\n",
    "                     [5, 10, 15]])"
   ]
  },
  {
   "cell_type": "code",
   "execution_count": 29,
   "id": "ad846cf9-6d5d-4b85-939f-96acd2200055",
   "metadata": {},
   "outputs": [],
   "source": [
    "# Degrees of freedom\n",
    "df = (observed.shape[0] - 1) * (observed.shape[1] - 1)"
   ]
  },
  {
   "cell_type": "code",
   "execution_count": 30,
   "id": "24cc4dd2-3bc3-4273-bcf7-5964d9c06ba9",
   "metadata": {},
   "outputs": [
    {
     "name": "stdout",
     "output_type": "stream",
     "text": [
      "Degrees of freedom: 4\n",
      "Critical value: 9.487729036781154\n"
     ]
    }
   ],
   "source": [
    "# Critical value for 95% significance level\n",
    "critical_value = stats.chi2.ppf(0.95, df)\n",
    "\n",
    "print(\"Degrees of freedom:\", df)\n",
    "print(\"Critical value:\", critical_value)"
   ]
  },
  {
   "cell_type": "code",
   "execution_count": 31,
   "id": "1b8fad37-f8f7-4888-93f4-9bab7dc189dc",
   "metadata": {},
   "outputs": [
    {
     "name": "stdout",
     "output_type": "stream",
     "text": [
      "Null hypothesis: The distributions of the categorical variables are homogeneous across populations.\n",
      "Chi-squared statistic: 0.27692307692307694\n",
      "p-value: 0.870696738961232\n",
      "Degrees of freedom: 2\n",
      "Expected frequencies table:\n",
      " [[11.11111111 20.         28.88888889]\n",
      " [13.88888889 25.         36.11111111]]\n",
      "Critical value: 9.487729036781154\n"
     ]
    }
   ],
   "source": [
    "print(\"Null hypothesis: The distributions of the categorical variables are homogeneous across populations.\")\n",
    "print(\"Chi-squared statistic:\", chi2)\n",
    "print(\"p-value:\", p)\n",
    "print(\"Degrees of freedom:\", dof)\n",
    "print(\"Expected frequencies table:\\n\", expected)\n",
    "print(\"Critical value:\", critical_value)"
   ]
  },
  {
   "cell_type": "code",
   "execution_count": null,
   "id": "93c62df8-4ca1-4e0e-a0c5-226048c734c6",
   "metadata": {},
   "outputs": [],
   "source": []
  }
 ],
 "metadata": {
  "kernelspec": {
   "display_name": "Python 3 (ipykernel)",
   "language": "python",
   "name": "python3"
  },
  "language_info": {
   "codemirror_mode": {
    "name": "ipython",
    "version": 3
   },
   "file_extension": ".py",
   "mimetype": "text/x-python",
   "name": "python",
   "nbconvert_exporter": "python",
   "pygments_lexer": "ipython3",
   "version": "3.9.13"
  }
 },
 "nbformat": 4,
 "nbformat_minor": 5
}
