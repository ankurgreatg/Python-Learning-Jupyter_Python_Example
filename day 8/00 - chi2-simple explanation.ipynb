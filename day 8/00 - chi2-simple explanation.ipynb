{
 "cells": [
  {
   "cell_type": "code",
   "execution_count": 21,
   "id": "b759bb5b-36d9-41dc-b7f9-e235c7b3e3c8",
   "metadata": {},
   "outputs": [],
   "source": [
    "import numpy as np\n",
    "import pandas as pd\n",
    "import matplotlib.pyplot as plt\n",
    "from scipy.stats import chi2_contingency, chi2"
   ]
  },
  {
   "cell_type": "code",
   "execution_count": 22,
   "id": "9f44f6e7-a200-46e5-9b20-ea91812cfd82",
   "metadata": {},
   "outputs": [],
   "source": [
    "# Define the categories\n",
    "gender_categories   = ['Male', 'Female']\n",
    "clothing_categories = ['Jeans', 'T-Shirt']"
   ]
  },
  {
   "cell_type": "code",
   "execution_count": 23,
   "id": "1e09d261-fff8-4933-ad1e-b308872ee959",
   "metadata": {},
   "outputs": [],
   "source": [
    "# Generate 50 samples\n",
    "np.random.seed(1)  # For reproducibility\n",
    "gender_samples   = np.random.choice(gender_categories,   size=25)\n",
    "clothing_samples = np.random.choice(clothing_categories, size=25)"
   ]
  },
  {
   "cell_type": "code",
   "execution_count": 24,
   "id": "39378958-0a5b-41e1-a0cf-6166ad146ca3",
   "metadata": {},
   "outputs": [],
   "source": [
    "# Create DataFrame\n",
    "df = pd.DataFrame({'gender': gender_samples, 'clothing_preference': clothing_samples})"
   ]
  },
  {
   "cell_type": "code",
   "execution_count": 25,
   "id": "33fd0d96-af10-4c42-a5e9-831cb36bfece",
   "metadata": {},
   "outputs": [
    {
     "data": {
      "text/html": [
       "<div>\n",
       "<style scoped>\n",
       "    .dataframe tbody tr th:only-of-type {\n",
       "        vertical-align: middle;\n",
       "    }\n",
       "\n",
       "    .dataframe tbody tr th {\n",
       "        vertical-align: top;\n",
       "    }\n",
       "\n",
       "    .dataframe thead th {\n",
       "        text-align: right;\n",
       "    }\n",
       "</style>\n",
       "<table border=\"1\" class=\"dataframe\">\n",
       "  <thead>\n",
       "    <tr style=\"text-align: right;\">\n",
       "      <th></th>\n",
       "      <th>gender</th>\n",
       "      <th>clothing_preference</th>\n",
       "    </tr>\n",
       "  </thead>\n",
       "  <tbody>\n",
       "    <tr>\n",
       "      <th>24</th>\n",
       "      <td>Female</td>\n",
       "      <td>Jeans</td>\n",
       "    </tr>\n",
       "    <tr>\n",
       "      <th>14</th>\n",
       "      <td>Female</td>\n",
       "      <td>Jeans</td>\n",
       "    </tr>\n",
       "    <tr>\n",
       "      <th>12</th>\n",
       "      <td>Male</td>\n",
       "      <td>Jeans</td>\n",
       "    </tr>\n",
       "    <tr>\n",
       "      <th>0</th>\n",
       "      <td>Female</td>\n",
       "      <td>Jeans</td>\n",
       "    </tr>\n",
       "    <tr>\n",
       "      <th>20</th>\n",
       "      <td>Male</td>\n",
       "      <td>T-Shirt</td>\n",
       "    </tr>\n",
       "  </tbody>\n",
       "</table>\n",
       "</div>"
      ],
      "text/plain": [
       "    gender clothing_preference\n",
       "24  Female               Jeans\n",
       "14  Female               Jeans\n",
       "12    Male               Jeans\n",
       "0   Female               Jeans\n",
       "20    Male             T-Shirt"
      ]
     },
     "execution_count": 25,
     "metadata": {},
     "output_type": "execute_result"
    }
   ],
   "source": [
    "df.sample(5)"
   ]
  },
  {
   "cell_type": "code",
   "execution_count": 26,
   "id": "7cda883e-996f-4b24-b9bf-421c152bd737",
   "metadata": {},
   "outputs": [],
   "source": [
    "# Create a contingency table\n",
    "contingency_table = pd.crosstab(df['gender'], df['clothing_preference'])"
   ]
  },
  {
   "cell_type": "code",
   "execution_count": 27,
   "id": "0b4eab88-c190-4ccf-aeb6-cba795e90149",
   "metadata": {},
   "outputs": [
    {
     "data": {
      "text/html": [
       "<div>\n",
       "<style scoped>\n",
       "    .dataframe tbody tr th:only-of-type {\n",
       "        vertical-align: middle;\n",
       "    }\n",
       "\n",
       "    .dataframe tbody tr th {\n",
       "        vertical-align: top;\n",
       "    }\n",
       "\n",
       "    .dataframe thead th {\n",
       "        text-align: right;\n",
       "    }\n",
       "</style>\n",
       "<table border=\"1\" class=\"dataframe\">\n",
       "  <thead>\n",
       "    <tr style=\"text-align: right;\">\n",
       "      <th>clothing_preference</th>\n",
       "      <th>Jeans</th>\n",
       "      <th>T-Shirt</th>\n",
       "    </tr>\n",
       "    <tr>\n",
       "      <th>gender</th>\n",
       "      <th></th>\n",
       "      <th></th>\n",
       "    </tr>\n",
       "  </thead>\n",
       "  <tbody>\n",
       "    <tr>\n",
       "      <th>Female</th>\n",
       "      <td>9</td>\n",
       "      <td>4</td>\n",
       "    </tr>\n",
       "    <tr>\n",
       "      <th>Male</th>\n",
       "      <td>2</td>\n",
       "      <td>10</td>\n",
       "    </tr>\n",
       "  </tbody>\n",
       "</table>\n",
       "</div>"
      ],
      "text/plain": [
       "clothing_preference  Jeans  T-Shirt\n",
       "gender                             \n",
       "Female                   9        4\n",
       "Male                     2       10"
      ]
     },
     "execution_count": 27,
     "metadata": {},
     "output_type": "execute_result"
    }
   ],
   "source": [
    "contingency_table"
   ]
  },
  {
   "cell_type": "code",
   "execution_count": 28,
   "id": "6a75406f-b3f2-4a1b-bf81-5fbc15628ae5",
   "metadata": {},
   "outputs": [],
   "source": [
    "# Perform chi-squared test\n",
    "chi2_stat, p_val, _, _ = chi2_contingency(contingency_table)"
   ]
  },
  {
   "cell_type": "code",
   "execution_count": 29,
   "id": "22ae3936-d413-4c8f-9c47-dcef8fa05049",
   "metadata": {},
   "outputs": [
    {
     "name": "stdout",
     "output_type": "stream",
     "text": [
      "Chi-squared statistic: 5.0264839327339335\n",
      "P-value: 0.024962526384295327\n"
     ]
    }
   ],
   "source": [
    "# Print chi-squared statistic and p-value\n",
    "print(\"Chi-squared statistic:\", chi2_stat)\n",
    "print(\"P-value:\", p_val)"
   ]
  },
  {
   "cell_type": "code",
   "execution_count": 34,
   "id": "90023671-bb9f-4f97-b30f-5b05f6f1c481",
   "metadata": {},
   "outputs": [
    {
     "data": {
      "text/plain": [
       "(2, 2)"
      ]
     },
     "execution_count": 34,
     "metadata": {},
     "output_type": "execute_result"
    }
   ],
   "source": [
    "contingency_table.shape"
   ]
  },
  {
   "cell_type": "code",
   "execution_count": 35,
   "id": "51038917-d91e-48e8-9a82-1ea6aa1f8577",
   "metadata": {},
   "outputs": [
    {
     "data": {
      "image/png": "[encoded data removed]",
      "text/plain": [
       "<Figure size 640x480 with 1 Axes>"
      ]
     },
     "metadata": {},
     "output_type": "display_data"
    }
   ],
   "source": [
    "# Plot the PDF of the chi distribution\n",
    "df_chi2  = (contingency_table.shape[0] - 1) * (contingency_table.shape[1] - 1)  # Degrees of freedom\n",
    "x        = np.linspace(0, 30, 1000)    # Define range for chi-statistic\n",
    "pdf_chi2 = chi2.pdf(x, df_chi2)        # Calculate PDF values\n",
    "\n",
    "# Calculate the critical value for alpha = 0.05\n",
    "cv = chi2.ppf(0.95, df_chi2)\n",
    "\n",
    "plt.plot(x, pdf_chi2, label=f'Chi-squared PDF (df={df_chi2})')\n",
    "\n",
    "plt.axvline(cv,        color='blue', linestyle='--', label=f'Critical value (alpha=0.05): {cv:.2f}')\n",
    "plt.axvline(chi2_stat, color='red',  linestyle='--', label=f'Chi-statistic: {chi2_stat:.2f}')\n",
    "\n",
    "\n",
    "plt.xlabel('Chi-squared Statistic')\n",
    "plt.ylabel('Probability Density')\n",
    "plt.title('PDF of Chi-squared Distribution')\n",
    "plt.legend()\n",
    "plt.show()"
   ]
  },
  {
   "cell_type": "markdown",
   "id": "4fbb1bd0-9d91-4fd6-90fb-e746fd4e7e1b",
   "metadata": {},
   "source": [
    "compute the p-value "
   ]
  },
  {
   "cell_type": "code",
   "execution_count": 36,
   "id": "ec603d15-60d9-48a0-8511-4dfca67cc2cd",
   "metadata": {},
   "outputs": [
    {
     "name": "stdout",
     "output_type": "stream",
     "text": [
      "P-value: 0.024962526384295303\n"
     ]
    }
   ],
   "source": [
    "# Calculate the chi-squared statistic\n",
    "df        = df_chi2    # Example degrees of freedom\n",
    "p_val     = 1 - chi2.cdf(chi2_stat, df)\n",
    "\n",
    "print(\"P-value:\", p_val)"
   ]
  },
  {
   "cell_type": "markdown",
   "id": "3a4fc10b-c7af-4e90-af1b-50d61c48af34",
   "metadata": {},
   "source": [
    "$$\n",
    "p_{\\text {val }}=1-\\text { chi2.cdf }(\\text { chi2_stat }, d f)\n",
    "$$\n",
    "- $p_{\\mathrm{val}}$ : \n",
    "    - This represents the $\\mathrm{p}$-value of the chi-squared test. The $p$-value is the probability of observing a chi-squared statistic as extreme as, or more extreme than, the observed value under the null hypothesis.\n",
    "    \n",
    "- chi2.cdf(chi2_stat, $d f$ ): \n",
    "    - This part computes the cumulative distribution function (CDF) of the chi-squared distribution. The CDF gives the probability of observing a chi-squared statistic less than or equal to a certain value (chi2_stat).\n",
    "    \n",
    "- 1 - chi2.cdf(chi2_stat, $d f$ ): \n",
    "    - Since the chi-squared test is typically right-tailed (testing for the goodness of fit or independence), we subtract the CDF value from 1 to get the probability of observing a chi-squared statistic as extreme as, or more extreme than, the observed value."
   ]
  },
  {
   "cell_type": "code",
   "execution_count": null,
   "id": "eb2fc7f9-15b5-4c84-9869-85f87afef4a7",
   "metadata": {},
   "outputs": [],
   "source": [
    "Intuition behind degrees of freedom"
   ]
  }
 ],
 "metadata": {
  "kernelspec": {
   "display_name": "Python 3 (ipykernel)",
   "language": "python",
   "name": "python3"
  },
  "language_info": {
   "codemirror_mode": {
    "name": "ipython",
    "version": 3
   },
   "file_extension": ".py",
   "mimetype": "text/x-python",
   "name": "python",
   "nbconvert_exporter": "python",
   "pygments_lexer": "ipython3",
   "version": "3.9.13"
  }
 },
 "nbformat": 4,
 "nbformat_minor": 5
}
