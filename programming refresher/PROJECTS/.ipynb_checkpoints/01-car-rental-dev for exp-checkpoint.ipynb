{
 "cells": [
  {
   "cell_type": "code",
   "execution_count": 2,
   "id": "e86e81da-dc97-434a-9ac9-43b27a26452b",
   "metadata": {},
   "outputs": [],
   "source": [
    "import random"
   ]
  },
  {
   "cell_type": "code",
   "execution_count": 1,
   "id": "6f33f931-cc88-4f1b-a2f1-3e40ebe68b37",
   "metadata": {},
   "outputs": [],
   "source": [
    "car_types = {\n",
    "    'COMPACT': {'hourly': 10, 'daily': 50, 'weekly': 125},\n",
    "    'SDN':     {'hourly': 15, 'daily': 75, 'weekly': 150},\n",
    "    'MUV':     {'hourly': 25, 'daily': 100, 'weekly': 150},\n",
    "    'TRUCKS':  {'hourly': 30, 'daily': 120, 'weekly': 200}\n",
    "}"
   ]
  },
  {
   "cell_type": "code",
   "execution_count": 5,
   "id": "39cb1619-fc9a-4218-9665-baa0f29aa669",
   "metadata": {},
   "outputs": [
    {
     "data": {
      "text/plain": [
       "'MUV'"
      ]
     },
     "execution_count": 5,
     "metadata": {},
     "output_type": "execute_result"
    }
   ],
   "source": []
  },
  {
   "cell_type": "code",
   "execution_count": 7,
   "id": "0fd89af8-0fee-4a38-b5cd-0a80bed6a884",
   "metadata": {},
   "outputs": [],
   "source": [
    "def generate_car_stock(num_cars=20):\n",
    "    \n",
    "    car_stock = {}\n",
    "    \n",
    "    for i in range(num_cars):\n",
    "        reg_no             = random.randint(10000, 50000)\n",
    "        car_type           = random.choice(list(car_types.keys()))\n",
    "        available          = 'Yes'\n",
    "        rented_by_customer = None\n",
    "        rented_date        = None\n",
    "        return_date        = None\n",
    "        \n",
    "        car_stock[reg_no] = {\n",
    "            'car_type': car_type,\n",
    "            'available': available,\n",
    "            'rented_by_customer': rented_by_customer,\n",
    "            'rented_date': rented_date,\n",
    "            'return_date': return_date,\n",
    "            'rates': car_types[car_type]\n",
    "        }\n",
    "        \n",
    "    return car_stock"
   ]
  },
  {
   "cell_type": "code",
   "execution_count": 8,
   "id": "8a08323f-fdc5-4aab-a203-98e48815017a",
   "metadata": {},
   "outputs": [],
   "source": [
    "car_stock = generate_car_stock(22)"
   ]
  },
  {
   "cell_type": "code",
   "execution_count": 10,
   "id": "43afbf5e-cad6-4f2c-aac1-374910d218e9",
   "metadata": {},
   "outputs": [],
   "source": [
    "#car_stock"
   ]
  },
  {
   "cell_type": "code",
   "execution_count": 12,
   "id": "ae1f9e13-d20f-4b18-975f-3b2a36a8c099",
   "metadata": {},
   "outputs": [
    {
     "name": "stdout",
     "output_type": "stream",
     "text": [
      "reg No : 25923 , Details : {'car_type': 'TRUCKS', 'available': 'Yes', 'rented_by_customer': None, 'rented_date': None, 'return_date': None, 'rates': {'hourly': 30, 'daily': 120, 'weekly': 200}}\n",
      "\n",
      "reg No : 24182 , Details : {'car_type': 'TRUCKS', 'available': 'Yes', 'rented_by_customer': None, 'rented_date': None, 'return_date': None, 'rates': {'hourly': 30, 'daily': 120, 'weekly': 200}}\n",
      "\n",
      "reg No : 25944 , Details : {'car_type': 'MUV', 'available': 'Yes', 'rented_by_customer': None, 'rented_date': None, 'return_date': None, 'rates': {'hourly': 25, 'daily': 100, 'weekly': 150}}\n",
      "\n",
      "reg No : 43363 , Details : {'car_type': 'COMPACT', 'available': 'Yes', 'rented_by_customer': None, 'rented_date': None, 'return_date': None, 'rates': {'hourly': 10, 'daily': 50, 'weekly': 125}}\n",
      "\n",
      "reg No : 20071 , Details : {'car_type': 'TRUCKS', 'available': 'Yes', 'rented_by_customer': None, 'rented_date': None, 'return_date': None, 'rates': {'hourly': 30, 'daily': 120, 'weekly': 200}}\n",
      "\n",
      "reg No : 39626 , Details : {'car_type': 'MUV', 'available': 'Yes', 'rented_by_customer': None, 'rented_date': None, 'return_date': None, 'rates': {'hourly': 25, 'daily': 100, 'weekly': 150}}\n",
      "\n",
      "reg No : 43373 , Details : {'car_type': 'COMPACT', 'available': 'Yes', 'rented_by_customer': None, 'rented_date': None, 'return_date': None, 'rates': {'hourly': 10, 'daily': 50, 'weekly': 125}}\n",
      "\n",
      "reg No : 23297 , Details : {'car_type': 'MUV', 'available': 'Yes', 'rented_by_customer': None, 'rented_date': None, 'return_date': None, 'rates': {'hourly': 25, 'daily': 100, 'weekly': 150}}\n",
      "\n",
      "reg No : 29245 , Details : {'car_type': 'SDN', 'available': 'Yes', 'rented_by_customer': None, 'rented_date': None, 'return_date': None, 'rates': {'hourly': 15, 'daily': 75, 'weekly': 150}}\n",
      "\n",
      "reg No : 14431 , Details : {'car_type': 'SDN', 'available': 'Yes', 'rented_by_customer': None, 'rented_date': None, 'return_date': None, 'rates': {'hourly': 15, 'daily': 75, 'weekly': 150}}\n",
      "\n",
      "reg No : 33324 , Details : {'car_type': 'MUV', 'available': 'Yes', 'rented_by_customer': None, 'rented_date': None, 'return_date': None, 'rates': {'hourly': 25, 'daily': 100, 'weekly': 150}}\n",
      "\n",
      "reg No : 42997 , Details : {'car_type': 'TRUCKS', 'available': 'Yes', 'rented_by_customer': None, 'rented_date': None, 'return_date': None, 'rates': {'hourly': 30, 'daily': 120, 'weekly': 200}}\n",
      "\n",
      "reg No : 19818 , Details : {'car_type': 'TRUCKS', 'available': 'Yes', 'rented_by_customer': None, 'rented_date': None, 'return_date': None, 'rates': {'hourly': 30, 'daily': 120, 'weekly': 200}}\n",
      "\n",
      "reg No : 28208 , Details : {'car_type': 'MUV', 'available': 'Yes', 'rented_by_customer': None, 'rented_date': None, 'return_date': None, 'rates': {'hourly': 25, 'daily': 100, 'weekly': 150}}\n",
      "\n",
      "reg No : 30634 , Details : {'car_type': 'TRUCKS', 'available': 'Yes', 'rented_by_customer': None, 'rented_date': None, 'return_date': None, 'rates': {'hourly': 30, 'daily': 120, 'weekly': 200}}\n",
      "\n",
      "reg No : 30070 , Details : {'car_type': 'COMPACT', 'available': 'Yes', 'rented_by_customer': None, 'rented_date': None, 'return_date': None, 'rates': {'hourly': 10, 'daily': 50, 'weekly': 125}}\n",
      "\n",
      "reg No : 11130 , Details : {'car_type': 'TRUCKS', 'available': 'Yes', 'rented_by_customer': None, 'rented_date': None, 'return_date': None, 'rates': {'hourly': 30, 'daily': 120, 'weekly': 200}}\n",
      "\n",
      "reg No : 40484 , Details : {'car_type': 'TRUCKS', 'available': 'Yes', 'rented_by_customer': None, 'rented_date': None, 'return_date': None, 'rates': {'hourly': 30, 'daily': 120, 'weekly': 200}}\n",
      "\n",
      "reg No : 10253 , Details : {'car_type': 'TRUCKS', 'available': 'Yes', 'rented_by_customer': None, 'rented_date': None, 'return_date': None, 'rates': {'hourly': 30, 'daily': 120, 'weekly': 200}}\n",
      "\n",
      "reg No : 14579 , Details : {'car_type': 'COMPACT', 'available': 'Yes', 'rented_by_customer': None, 'rented_date': None, 'return_date': None, 'rates': {'hourly': 10, 'daily': 50, 'weekly': 125}}\n",
      "\n",
      "reg No : 17463 , Details : {'car_type': 'COMPACT', 'available': 'Yes', 'rented_by_customer': None, 'rented_date': None, 'return_date': None, 'rates': {'hourly': 10, 'daily': 50, 'weekly': 125}}\n",
      "\n",
      "reg No : 31855 , Details : {'car_type': 'MUV', 'available': 'Yes', 'rented_by_customer': None, 'rented_date': None, 'return_date': None, 'rates': {'hourly': 25, 'daily': 100, 'weekly': 150}}\n",
      "\n"
     ]
    }
   ],
   "source": [
    "# example of unpacking values from the dict\n",
    "for reg_no, details in car_stock.items():\n",
    "    print(f\"reg No : {reg_no} , Details : {details}\\n\")"
   ]
  },
  {
   "cell_type": "code",
   "execution_count": 13,
   "id": "0d578f68-a59a-4ba3-9ecc-641a7e20692b",
   "metadata": {},
   "outputs": [
    {
     "name": "stdout",
     "output_type": "stream",
     "text": [
      "Requirement already satisfied: tabulate in d:\\anaconda-16-feb\\lib\\site-packages (0.8.10)\n",
      "Note: you may need to restart the kernel to use updated packages.\n"
     ]
    }
   ],
   "source": [
    "pip install tabulate"
   ]
  },
  {
   "cell_type": "code",
   "execution_count": 14,
   "id": "625988a4-8138-42ca-8285-f23531209619",
   "metadata": {},
   "outputs": [],
   "source": [
    "from tabulate import tabulate"
   ]
  },
  {
   "cell_type": "code",
   "execution_count": 15,
   "id": "72c8d916-d659-4861-bc60-dc9c06212874",
   "metadata": {},
   "outputs": [],
   "source": [
    "def display_stock(car_stock):\n",
    "    car_type_count = {}\n",
    "    total_stock = {}\n",
    "\n",
    "    # Count total and available cars for each car type\n",
    "    for reg_no, details in car_stock.items():\n",
    "        car_type = details['car_type']\n",
    "        \n",
    "        if car_type in total_stock:\n",
    "            total_stock[car_type] += 1\n",
    "        else:\n",
    "            total_stock[car_type] = 1\n",
    "\n",
    "        if details['available'] == 'Yes':\n",
    "            if car_type in car_type_count:\n",
    "                car_type_count[car_type] += 1\n",
    "            else:\n",
    "                car_type_count[car_type] = 1\n",
    "\n",
    "    if not car_type_count:\n",
    "        return \"No cars available\"\n",
    "\n",
    "    # Prepare data for tabulation\n",
    "    available_cars = []\n",
    "    for car_type, count in car_type_count.items():\n",
    "        total = total_stock[car_type]\n",
    "        rates = car_types[car_type]\n",
    "        rental_rates = f\"Hourly: ${rates['hourly']}, Daily: ${rates['daily']}, Weekly: ${rates['weekly']}\"\n",
    "        available_cars.append((car_type, total, count, rental_rates))\n",
    "        \n",
    "    headers = [\"Car Type\", \"Total Stock\", \"Number of Available Cars\", \"Rental Rates\"]\n",
    "    table = tabulate(available_cars, headers, tablefmt=\"pretty\")\n",
    "    return table"
   ]
  },
  {
   "cell_type": "code",
   "execution_count": 16,
   "id": "a0841f64-e5b8-4edd-8c4d-48709e3a3be1",
   "metadata": {},
   "outputs": [
    {
     "name": "stdout",
     "output_type": "stream",
     "text": [
      "+----------+-------------+--------------------------+----------------------------------------+\n",
      "| Car Type | Total Stock | Number of Available Cars |              Rental Rates              |\n",
      "+----------+-------------+--------------------------+----------------------------------------+\n",
      "|  TRUCKS  |      9      |            9             | Hourly: $30, Daily: $120, Weekly: $200 |\n",
      "|   MUV    |      6      |            6             | Hourly: $25, Daily: $100, Weekly: $150 |\n",
      "| COMPACT  |      5      |            5             | Hourly: $10, Daily: $50, Weekly: $125  |\n",
      "|   SDN    |      2      |            2             | Hourly: $15, Daily: $75, Weekly: $150  |\n",
      "+----------+-------------+--------------------------+----------------------------------------+\n"
     ]
    }
   ],
   "source": [
    "print(display_stock(car_stock))"
   ]
  },
  {
   "cell_type": "code",
   "execution_count": null,
   "id": "90066619-555d-4410-b5be-f142d6c93422",
   "metadata": {},
   "outputs": [],
   "source": []
  }
 ],
 "metadata": {
  "kernelspec": {
   "display_name": "Python 3 (ipykernel)",
   "language": "python",
   "name": "python3"
  },
  "language_info": {
   "codemirror_mode": {
    "name": "ipython",
    "version": 3
   },
   "file_extension": ".py",
   "mimetype": "text/x-python",
   "name": "python",
   "nbconvert_exporter": "python",
   "pygments_lexer": "ipython3",
   "version": "3.9.13"
  }
 },
 "nbformat": 4,
 "nbformat_minor": 5
}
