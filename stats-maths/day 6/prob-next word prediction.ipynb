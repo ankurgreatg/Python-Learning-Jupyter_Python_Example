{
 "cells": [
  {
   "cell_type": "code",
   "execution_count": 3,
   "id": "1cbd3dfc-8b1a-457a-a2b8-c43ba664e535",
   "metadata": {},
   "outputs": [],
   "source": [
    "import nltk\n",
    "from nltk.util import ngrams\n",
    "from collections import defaultdict, Counter\n",
    "import random"
   ]
  },
  {
   "cell_type": "code",
   "execution_count": 4,
   "id": "6b89e154-8f68-445f-8e1c-185988a3063a",
   "metadata": {},
   "outputs": [],
   "source": [
    "# Sample text\n",
    "text = \"\"\"\n",
    "Statistics is a branch of mathematics dealing with the collection, analysis, interpretation, presentation, and organization of data. It is a very powerful tool used in various fields such as science, business, social sciences, and many others.\n",
    "\n",
    "There are two main types of statistics: descriptive and inferential. Descriptive statistics summarize and describe the features of a data set. Inferential statistics, on the other hand, use a random sample of data taken from a population to describe and make inferences about the population. This type of statistics is used to make predictions and generalizations.\n",
    "\n",
    "Inferential statistics are crucial for hypothesis testing. For example, a researcher may want to know if a new drug is effective. Using inferential statistics, they can test the drug on a small sample and infer the results to the larger population. The importance of inferential statistics in research cannot be overstated.\n",
    "\n",
    "Machine learning (ML) and data science heavily rely on inferential stats to make predictions and decisions. In ME (Mechanical Engineering), inferential statistics can be used to predict the lifespan of materials under different conditions. Without inferential statistics, it would be challenging to make accurate and reliable decisions based on data.\n",
    "\"\"\""
   ]
  },
  {
   "cell_type": "code",
   "execution_count": 5,
   "id": "ebe6a29a-c4b8-4ea6-b236-5b9502f158f8",
   "metadata": {},
   "outputs": [],
   "source": [
    "# Tokenize the text\n",
    "tokens = nltk.word_tokenize(text.lower())"
   ]
  },
  {
   "cell_type": "code",
   "execution_count": 6,
   "id": "fad3ee93-a1d0-4d28-8773-ff385631ff7e",
   "metadata": {},
   "outputs": [],
   "source": [
    "# Generate bigrams\n",
    "bigrams = list(ngrams(tokens, 2))"
   ]
  },
  {
   "cell_type": "code",
   "execution_count": 7,
   "id": "6a369237-ec0d-47b0-8fb2-41c3f3b27d8b",
   "metadata": {},
   "outputs": [],
   "source": [
    "# Create a dictionary to hold the bigram frequencies\n",
    "bigram_model = defaultdict(Counter)"
   ]
  },
  {
   "cell_type": "code",
   "execution_count": 8,
   "id": "b91fb11d-5dbe-4191-8bc7-385b3b6998e6",
   "metadata": {},
   "outputs": [],
   "source": [
    "# Populate the bigram model\n",
    "for w1, w2 in bigrams:\n",
    "    bigram_model[w1][w2] += 1"
   ]
  },
  {
   "cell_type": "code",
   "execution_count": 9,
   "id": "7083f76a-5d86-4048-81b0-bfb38c31943b",
   "metadata": {},
   "outputs": [],
   "source": [
    "def predict_next_word(previous_word, model, n_predictions=1):\n",
    "    \"\"\"Predict the next word given the previous word.\"\"\"\n",
    "    if previous_word not in model:\n",
    "        return None\n",
    "    possible_next_words = model[previous_word]\n",
    "    most_common_next_words = possible_next_words.most_common(n_predictions)\n",
    "    return [word for word, _ in most_common_next_words]"
   ]
  },
  {
   "cell_type": "code",
   "execution_count": 10,
   "id": "bf48bcdc-61ab-42fa-86f8-f9298ec68598",
   "metadata": {},
   "outputs": [
    {
     "data": {
      "text/plain": [
       "['statistics', '.', 'stats']"
      ]
     },
     "execution_count": 10,
     "metadata": {},
     "output_type": "execute_result"
    }
   ],
   "source": [
    "# Example usage\n",
    "previous_word = 'inferential'\n",
    "next_word_predictions = predict_next_word(previous_word, bigram_model, 3)\n",
    "next_word_predictions"
   ]
  },
  {
   "cell_type": "code",
   "execution_count": null,
   "id": "d6a97c68-3035-4061-9828-ed88ba7ad6d8",
   "metadata": {},
   "outputs": [],
   "source": []
  }
 ],
 "metadata": {
  "kernelspec": {
   "display_name": "Python 3 (ipykernel)",
   "language": "python",
   "name": "python3"
  },
  "language_info": {
   "codemirror_mode": {
    "name": "ipython",
    "version": 3
   },
   "file_extension": ".py",
   "mimetype": "text/x-python",
   "name": "python",
   "nbconvert_exporter": "python",
   "pygments_lexer": "ipython3",
   "version": "3.9.13"
  }
 },
 "nbformat": 4,
 "nbformat_minor": 5
}
