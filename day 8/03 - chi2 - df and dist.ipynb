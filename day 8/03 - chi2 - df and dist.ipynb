{
 "cells": [
  {
   "cell_type": "code",
   "execution_count": 1,
   "id": "6331fd8d-8818-43f0-acc7-57dc9cb6b664",
   "metadata": {},
   "outputs": [],
   "source": [
    "import numpy as np\n",
    "import matplotlib.pyplot as plt\n",
    "import scipy.stats as stats\n",
    "import ipywidgets as widgets\n",
    "from IPython.display import display"
   ]
  },
  {
   "cell_type": "code",
   "execution_count": 11,
   "id": "602a91e8-8472-4704-be3f-0b09dca41b0e",
   "metadata": {},
   "outputs": [],
   "source": [
    "# Function to update the plot based on the slider value\n",
    "def update_plot(df):\n",
    "    x = np.linspace(0, 50, 1000)  # Generate 1000 evenly spaced chi-squared statistic values between 0 and 50\n",
    "    y = stats.chi2.pdf(x, df)     # Compute the PDF of the chi-squared distribution for each value in x for the given df\n",
    "    \n",
    "    # Calculate the critical value for the 0.05 significance level\n",
    "    alpha = 0.05\n",
    "    critical_value = stats.chi2.ppf(1 - alpha, df)\n",
    "    \n",
    "    # Plot the chi-squared distribution\n",
    "    plt.figure(figsize=(10, 6))\n",
    "    plt.plot(x, y, label=f'df = {df}')\n",
    "    plt.axvline(critical_value, color='r', linestyle='--', label=f'Critical Value = {critical_value:.2f}')\n",
    "    plt.title('Chi-Squared Distribution')\n",
    "    plt.xlabel('Chi-Squared Value')\n",
    "    plt.ylabel('Probability Density')\n",
    "    plt.legend()\n",
    "    plt.grid(True)\n",
    "    plt.show()\n",
    "    \n",
    "    # Print the chi-squared statistic value and the critical value\n",
    "    # print(f'Degrees of Freedom (df): {df}')\n",
    "    # print(f'Critical Value at 0.05 significance level: {critical_value:.2f}')"
   ]
  },
  {
   "cell_type": "code",
   "execution_count": 12,
   "id": "beaeb5a7-a7aa-404b-8c91-6d86ec311921",
   "metadata": {},
   "outputs": [],
   "source": [
    "# Create an integer slider widget\n",
    "df_slider = widgets.IntSlider(value=1, min=1, max=50, step=1, description='Degrees of Freedom', continuous_update=False)"
   ]
  },
  {
   "cell_type": "code",
   "execution_count": 13,
   "id": "88b3d7ce-9a85-4aa4-9c2b-e0c8d91e9260",
   "metadata": {},
   "outputs": [
    {
     "data": {
      "application/vnd.jupyter.widget-view+json": {
       "model_id": "10c60440582a461f89b72d07287e1f24",
       "version_major": 2,
       "version_minor": 0
      },
      "text/plain": [
       "interactive(children=(IntSlider(value=1, continuous_update=False, description='Degrees of Freedom', max=50, mi…"
      ]
     },
     "metadata": {},
     "output_type": "display_data"
    },
    {
     "data": {
      "text/plain": [
       "<function __main__.update_plot(df)>"
      ]
     },
     "execution_count": 13,
     "metadata": {},
     "output_type": "execute_result"
    }
   ],
   "source": [
    "# Use the interact function to update the plot when the slider value changes\n",
    "widgets.interact(update_plot, df=df_slider)"
   ]
  },
  {
   "cell_type": "code",
   "execution_count": null,
   "id": "ab479e9b-7e14-4248-8777-a6b15aeb089d",
   "metadata": {},
   "outputs": [],
   "source": []
  }
 ],
 "metadata": {
  "kernelspec": {
   "display_name": "Python 3 (ipykernel)",
   "language": "python",
   "name": "python3"
  },
  "language_info": {
   "codemirror_mode": {
    "name": "ipython",
    "version": 3
   },
   "file_extension": ".py",
   "mimetype": "text/x-python",
   "name": "python",
   "nbconvert_exporter": "python",
   "pygments_lexer": "ipython3",
   "version": "3.9.13"
  }
 },
 "nbformat": 4,
 "nbformat_minor": 5
}
