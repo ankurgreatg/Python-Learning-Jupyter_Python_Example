{
 "cells": [
  {
   "cell_type": "code",
   "execution_count": 2,
   "id": "e86e81da-dc97-434a-9ac9-43b27a26452b",
   "metadata": {},
   "outputs": [],
   "source": [
    "import random"
   ]
  },
  {
   "cell_type": "code",
   "execution_count": 1,
   "id": "6f33f931-cc88-4f1b-a2f1-3e40ebe68b37",
   "metadata": {},
   "outputs": [],
   "source": [
    "car_types = {\n",
    "    'COMPACT': {'hourly': 10, 'daily': 50, 'weekly': 125},\n",
    "    'SDN':     {'hourly': 15, 'daily': 75, 'weekly': 150},\n",
    "    'MUV':     {'hourly': 25, 'daily': 100, 'weekly': 150},\n",
    "    'TRUCKS':  {'hourly': 30, 'daily': 120, 'weekly': 200}\n",
    "}"
   ]
  },
  {
   "cell_type": "code",
   "execution_count": 5,
   "id": "39cb1619-fc9a-4218-9665-baa0f29aa669",
   "metadata": {},
   "outputs": [
    {
     "data": {
      "text/plain": [
       "'MUV'"
      ]
     },
     "execution_count": 5,
     "metadata": {},
     "output_type": "execute_result"
    }
   ],
   "source": []
  },
  {
   "cell_type": "code",
   "execution_count": 7,
   "id": "0fd89af8-0fee-4a38-b5cd-0a80bed6a884",
   "metadata": {},
   "outputs": [],
   "source": [
    "def generate_car_stock(num_cars=20):\n",
    "    \n",
    "    car_stock = {}\n",
    "    \n",
    "    for i in range(num_cars):\n",
    "        reg_no             = random.randint(10000, 50000)\n",
    "        car_type           = random.choice(list(car_types.keys()))\n",
    "        available          = 'Yes'\n",
    "        rented_by_customer = None\n",
    "        rented_date        = None\n",
    "        return_date        = None\n",
    "        \n",
    "        car_stock[reg_no] = {\n",
    "            'car_type': car_type,\n",
    "            'available': available,\n",
    "            'rented_by_customer': rented_by_customer,\n",
    "            'rented_date': rented_date,\n",
    "            'return_date': return_date,\n",
    "            'rates': car_types[car_type]\n",
    "        }\n",
    "        \n",
    "    return car_stock"
   ]
  },
  {
   "cell_type": "code",
   "execution_count": 33,
   "id": "8a08323f-fdc5-4aab-a203-98e48815017a",
   "metadata": {},
   "outputs": [],
   "source": [
    "car_stock = generate_car_stock(22)"
   ]
  },
  {
   "cell_type": "code",
   "execution_count": 34,
   "id": "43afbf5e-cad6-4f2c-aac1-374910d218e9",
   "metadata": {},
   "outputs": [],
   "source": [
    "#car_stock"
   ]
  },
  {
   "cell_type": "code",
   "execution_count": 35,
   "id": "ae1f9e13-d20f-4b18-975f-3b2a36a8c099",
   "metadata": {},
   "outputs": [
    {
     "name": "stdout",
     "output_type": "stream",
     "text": [
      "reg No : 11032 , Details : {'car_type': 'MUV', 'available': 'Yes', 'rented_by_customer': None, 'rented_date': None, 'return_date': None, 'rates': {'hourly': 25, 'daily': 100, 'weekly': 150}}\n",
      "\n",
      "reg No : 25431 , Details : {'car_type': 'TRUCKS', 'available': 'Yes', 'rented_by_customer': None, 'rented_date': None, 'return_date': None, 'rates': {'hourly': 30, 'daily': 120, 'weekly': 200}}\n",
      "\n",
      "reg No : 18942 , Details : {'car_type': 'MUV', 'available': 'Yes', 'rented_by_customer': None, 'rented_date': None, 'return_date': None, 'rates': {'hourly': 25, 'daily': 100, 'weekly': 150}}\n",
      "\n",
      "reg No : 41155 , Details : {'car_type': 'TRUCKS', 'available': 'Yes', 'rented_by_customer': None, 'rented_date': None, 'return_date': None, 'rates': {'hourly': 30, 'daily': 120, 'weekly': 200}}\n",
      "\n",
      "reg No : 29092 , Details : {'car_type': 'MUV', 'available': 'Yes', 'rented_by_customer': None, 'rented_date': None, 'return_date': None, 'rates': {'hourly': 25, 'daily': 100, 'weekly': 150}}\n",
      "\n",
      "reg No : 18352 , Details : {'car_type': 'MUV', 'available': 'Yes', 'rented_by_customer': None, 'rented_date': None, 'return_date': None, 'rates': {'hourly': 25, 'daily': 100, 'weekly': 150}}\n",
      "\n",
      "reg No : 37813 , Details : {'car_type': 'SDN', 'available': 'Yes', 'rented_by_customer': None, 'rented_date': None, 'return_date': None, 'rates': {'hourly': 15, 'daily': 75, 'weekly': 150}}\n",
      "\n",
      "reg No : 25417 , Details : {'car_type': 'SDN', 'available': 'Yes', 'rented_by_customer': None, 'rented_date': None, 'return_date': None, 'rates': {'hourly': 15, 'daily': 75, 'weekly': 150}}\n",
      "\n",
      "reg No : 15619 , Details : {'car_type': 'TRUCKS', 'available': 'Yes', 'rented_by_customer': None, 'rented_date': None, 'return_date': None, 'rates': {'hourly': 30, 'daily': 120, 'weekly': 200}}\n",
      "\n",
      "reg No : 24608 , Details : {'car_type': 'COMPACT', 'available': 'Yes', 'rented_by_customer': None, 'rented_date': None, 'return_date': None, 'rates': {'hourly': 10, 'daily': 50, 'weekly': 125}}\n",
      "\n",
      "reg No : 31345 , Details : {'car_type': 'TRUCKS', 'available': 'Yes', 'rented_by_customer': None, 'rented_date': None, 'return_date': None, 'rates': {'hourly': 30, 'daily': 120, 'weekly': 200}}\n",
      "\n",
      "reg No : 45412 , Details : {'car_type': 'SDN', 'available': 'Yes', 'rented_by_customer': None, 'rented_date': None, 'return_date': None, 'rates': {'hourly': 15, 'daily': 75, 'weekly': 150}}\n",
      "\n",
      "reg No : 41419 , Details : {'car_type': 'MUV', 'available': 'Yes', 'rented_by_customer': None, 'rented_date': None, 'return_date': None, 'rates': {'hourly': 25, 'daily': 100, 'weekly': 150}}\n",
      "\n",
      "reg No : 10300 , Details : {'car_type': 'MUV', 'available': 'Yes', 'rented_by_customer': None, 'rented_date': None, 'return_date': None, 'rates': {'hourly': 25, 'daily': 100, 'weekly': 150}}\n",
      "\n",
      "reg No : 28793 , Details : {'car_type': 'COMPACT', 'available': 'Yes', 'rented_by_customer': None, 'rented_date': None, 'return_date': None, 'rates': {'hourly': 10, 'daily': 50, 'weekly': 125}}\n",
      "\n",
      "reg No : 44446 , Details : {'car_type': 'MUV', 'available': 'Yes', 'rented_by_customer': None, 'rented_date': None, 'return_date': None, 'rates': {'hourly': 25, 'daily': 100, 'weekly': 150}}\n",
      "\n",
      "reg No : 31291 , Details : {'car_type': 'TRUCKS', 'available': 'Yes', 'rented_by_customer': None, 'rented_date': None, 'return_date': None, 'rates': {'hourly': 30, 'daily': 120, 'weekly': 200}}\n",
      "\n",
      "reg No : 10317 , Details : {'car_type': 'SDN', 'available': 'Yes', 'rented_by_customer': None, 'rented_date': None, 'return_date': None, 'rates': {'hourly': 15, 'daily': 75, 'weekly': 150}}\n",
      "\n",
      "reg No : 29450 , Details : {'car_type': 'SDN', 'available': 'Yes', 'rented_by_customer': None, 'rented_date': None, 'return_date': None, 'rates': {'hourly': 15, 'daily': 75, 'weekly': 150}}\n",
      "\n",
      "reg No : 21910 , Details : {'car_type': 'MUV', 'available': 'Yes', 'rented_by_customer': None, 'rented_date': None, 'return_date': None, 'rates': {'hourly': 25, 'daily': 100, 'weekly': 150}}\n",
      "\n",
      "reg No : 42636 , Details : {'car_type': 'TRUCKS', 'available': 'Yes', 'rented_by_customer': None, 'rented_date': None, 'return_date': None, 'rates': {'hourly': 30, 'daily': 120, 'weekly': 200}}\n",
      "\n",
      "reg No : 23544 , Details : {'car_type': 'SDN', 'available': 'Yes', 'rented_by_customer': None, 'rented_date': None, 'return_date': None, 'rates': {'hourly': 15, 'daily': 75, 'weekly': 150}}\n",
      "\n"
     ]
    }
   ],
   "source": [
    "# example of unpacking values from the dict\n",
    "for reg_no, details in car_stock.items():\n",
    "    print(f\"reg No : {reg_no} , Details : {details}\\n\")"
   ]
  },
  {
   "cell_type": "code",
   "execution_count": 36,
   "id": "0d578f68-a59a-4ba3-9ecc-641a7e20692b",
   "metadata": {},
   "outputs": [
    {
     "name": "stdout",
     "output_type": "stream",
     "text": [
      "Requirement already satisfied: tabulate in d:\\anaconda-16-feb\\lib\\site-packages (0.8.10)\n",
      "Note: you may need to restart the kernel to use updated packages.\n"
     ]
    }
   ],
   "source": [
    "pip install tabulate"
   ]
  },
  {
   "cell_type": "code",
   "execution_count": 37,
   "id": "625988a4-8138-42ca-8285-f23531209619",
   "metadata": {},
   "outputs": [],
   "source": [
    "from tabulate import tabulate"
   ]
  },
  {
   "cell_type": "code",
   "execution_count": 38,
   "id": "72c8d916-d659-4861-bc60-dc9c06212874",
   "metadata": {},
   "outputs": [],
   "source": [
    "def display_stock(car_stock):\n",
    "    car_type_count = {}\n",
    "    total_stock    = {}\n",
    "\n",
    "    # Count total and available cars for each car type\n",
    "    for reg_no, details in car_stock.items():\n",
    "        car_type = details['car_type']\n",
    "        \n",
    "        if car_type in total_stock:\n",
    "            total_stock[car_type] += 1\n",
    "        else:\n",
    "            total_stock[car_type] = 1\n",
    "\n",
    "        if details['available'] == 'Yes':\n",
    "            if car_type in car_type_count:\n",
    "                car_type_count[car_type] += 1\n",
    "            else:\n",
    "                car_type_count[car_type] = 1\n",
    "\n",
    "    if not car_type_count:\n",
    "        return \"No cars available\"\n",
    "\n",
    "    # Prepare data for tabulation\n",
    "    available_cars = []\n",
    "    for car_type, count in car_type_count.items():\n",
    "        total = total_stock[car_type]\n",
    "        rates = car_types[car_type]\n",
    "        rental_rates = f\"Hourly: ${rates['hourly']}, Daily: ${rates['daily']}, Weekly: ${rates['weekly']}\"\n",
    "        available_cars.append((car_type, total, count, rental_rates))\n",
    "        \n",
    "    headers = [\"Car Type\", \"Total Stock\", \"Number of Available Cars\", \"Rental Rates\"]\n",
    "    table   = tabulate(available_cars, headers, tablefmt=\"pretty\")\n",
    "    return table"
   ]
  },
  {
   "cell_type": "code",
   "execution_count": 39,
   "id": "a0841f64-e5b8-4edd-8c4d-48709e3a3be1",
   "metadata": {},
   "outputs": [
    {
     "name": "stdout",
     "output_type": "stream",
     "text": [
      "+----------+-------------+--------------------------+----------------------------------------+\n",
      "| Car Type | Total Stock | Number of Available Cars |              Rental Rates              |\n",
      "+----------+-------------+--------------------------+----------------------------------------+\n",
      "|   MUV    |      8      |            8             | Hourly: $25, Daily: $100, Weekly: $150 |\n",
      "|  TRUCKS  |      6      |            6             | Hourly: $30, Daily: $120, Weekly: $200 |\n",
      "|   SDN    |      6      |            6             | Hourly: $15, Daily: $75, Weekly: $150  |\n",
      "| COMPACT  |      2      |            2             | Hourly: $10, Daily: $50, Weekly: $125  |\n",
      "+----------+-------------+--------------------------+----------------------------------------+\n"
     ]
    }
   ],
   "source": [
    "print(display_stock(car_stock))"
   ]
  },
  {
   "cell_type": "markdown",
   "id": "e3c85149-b398-463f-bd82-81bd9b39edee",
   "metadata": {},
   "source": [
    "#### rental booking"
   ]
  },
  {
   "cell_type": "code",
   "execution_count": 18,
   "id": "02eb28b7-97a8-4adf-be47-3940ad1a3eab",
   "metadata": {},
   "outputs": [],
   "source": [
    "from datetime import datetime, timedelta"
   ]
  },
  {
   "cell_type": "code",
   "execution_count": 20,
   "id": "7f84ee77-da1a-4641-bb91-10422a6087f1",
   "metadata": {},
   "outputs": [
    {
     "name": "stdin",
     "output_type": "stream",
     "text": [
      "Enter car type you want to book:  sdn\n"
     ]
    }
   ],
   "source": [
    "car_type = input(\"Enter car type you want to book: \").upper()\n",
    "\n",
    "if car_type not in car_types:\n",
    "        print( \"Invalid car type entered.\")"
   ]
  },
  {
   "cell_type": "code",
   "execution_count": 21,
   "id": "78be695a-fb30-4a65-b627-439b0843b00d",
   "metadata": {},
   "outputs": [
    {
     "data": {
      "text/plain": [
       "'SDN'"
      ]
     },
     "execution_count": 21,
     "metadata": {},
     "output_type": "execute_result"
    }
   ],
   "source": [
    "car_type"
   ]
  },
  {
   "cell_type": "code",
   "execution_count": 22,
   "id": "5a24e19b-1fc2-4a94-bfa7-8b0061b1590e",
   "metadata": {},
   "outputs": [
    {
     "name": "stdin",
     "output_type": "stream",
     "text": [
      "Enter quantity of cars to book:  2\n"
     ]
    },
    {
     "data": {
      "text/plain": [
       "2"
      ]
     },
     "execution_count": 22,
     "metadata": {},
     "output_type": "execute_result"
    }
   ],
   "source": [
    "qty = abs(int(input(\"Enter quantity of cars to book: \")))\n",
    "qty"
   ]
  },
  {
   "cell_type": "code",
   "execution_count": 25,
   "id": "85291010-495a-4081-8c0d-4c0b9f8a5fc1",
   "metadata": {},
   "outputs": [],
   "source": [
    "# get the reg nos of the cars which are availale for renting\n",
    "# [] of reg numbers\n",
    "available_cars = [reg_no for reg_no, details in car_stock.items() if details['available'] == 'Yes' and details['car_type'] == car_type]"
   ]
  },
  {
   "cell_type": "code",
   "execution_count": 26,
   "id": "4fc71dbb-19a0-4579-b400-195940dce2e9",
   "metadata": {},
   "outputs": [
    {
     "data": {
      "text/plain": [
       "[29245, 14431]"
      ]
     },
     "execution_count": 26,
     "metadata": {},
     "output_type": "execute_result"
    }
   ],
   "source": [
    "available_cars"
   ]
  },
  {
   "cell_type": "code",
   "execution_count": 27,
   "id": "fccc7f57-d2d2-4a1f-bcf9-18d6097e12d3",
   "metadata": {},
   "outputs": [],
   "source": [
    "if qty > len(available_cars):\n",
    "    print( f\"Not enough {car_type} cars available. Stock: {len(available_cars)}, requested qty {qty}\")"
   ]
  },
  {
   "cell_type": "markdown",
   "id": "f6ebc37f-60cf-461e-bd65-e89dd88797e5",
   "metadata": {},
   "source": [
    "**... putting all of the above together ..**"
   ]
  },
  {
   "cell_type": "code",
   "execution_count": 40,
   "id": "e018f804-77ce-4b7f-b5d2-f393efc49096",
   "metadata": {},
   "outputs": [],
   "source": [
    "def book_car(car_stock, customer_bookings, customer_name, car_type, qty, rental_basis):\n",
    "    if car_type not in car_types:\n",
    "        return \"Invalid car type entered.\"\n",
    "\n",
    "    if rental_basis not in ['hourly', 'daily', 'weekly']:\n",
    "        return \"Invalid rental basis entered.\"\n",
    "\n",
    "    if qty <= 0:\n",
    "        return \"Quantity must be a positive integer.\"\n",
    "\n",
    "    available_cars = [reg_no for reg_no, details in car_stock.items() if details['available'] == 'Yes' and details['car_type'] == car_type]\n",
    "\n",
    "    if not available_cars:\n",
    "        return f\"No available cars of {car_type} type.\"\n",
    "\n",
    "    if qty > len(available_cars):\n",
    "        return f\"Not enough {car_type} cars available. Available: {len(available_cars)}\"\n",
    "    \n",
    "    # Generate a unique booking reference\n",
    "    booking_ref = f\"{customer_name}_{car_type}_{rental_basis}_{datetime.now().strftime('%Y%m%d%H%M%S%f')}\"\n",
    "    \n",
    "    booking_details = []\n",
    "    \n",
    "    for reg_no in random.sample(available_cars, qty):  # Using random.sample to ensure unique cars are booked\n",
    "        \n",
    "        # Generate a random previous rental date\n",
    "        some_prev_days_count = random.randint(3, 15)\n",
    "        rental_date          = datetime.now() - timedelta(days=some_prev_days_count)\n",
    "        \n",
    "        car_stock[reg_no]['available']          = 'No'\n",
    "        car_stock[reg_no]['rented_by_customer'] = customer_name\n",
    "        car_stock[reg_no]['rented_date']        = datetime.now()\n",
    "        car_stock[reg_no]['return_date']        = None\n",
    "\n",
    "        # Add booking details to booking_details list\n",
    "        booking_details.append({\n",
    "            'customer_name': customer_name,\n",
    "            'car_type': car_type,\n",
    "            'rental_basis': rental_basis,\n",
    "            'rental_date': rental_date,\n",
    "            'return_date': None,\n",
    "            'reg_no': reg_no\n",
    "        })\n",
    "        \n",
    "    # Store booking details in customer_bookings using booking_ref as the key\n",
    "    customer_bookings[booking_ref] = booking_details\n",
    "    \n",
    "    return f\"Booking Successful! Booking Reference: {booking_ref}\", car_stock\n",
    "        "
   ]
  },
  {
   "cell_type": "code",
   "execution_count": 29,
   "id": "31722026-0c5e-4679-b1ee-1ed457434922",
   "metadata": {},
   "outputs": [
    {
     "name": "stdin",
     "output_type": "stream",
     "text": [
      "Enter customer name:  abhishek\n",
      "Enter car type you want to book:  sdn\n",
      "Enter rental basis (hourly/daily/weekly):  weekly\n",
      "Enter quantity of cars to book:  2\n"
     ]
    },
    {
     "data": {
      "text/plain": [
       "('abhishek', 'SDN', 'weekly', 2)"
      ]
     },
     "execution_count": 29,
     "metadata": {},
     "output_type": "execute_result"
    }
   ],
   "source": [
    "customer_name = input(\"Enter customer name: \")\n",
    "car_type      = input(\"Enter car type you want to book: \").upper()\n",
    "rental_basis  = input(\"Enter rental basis (hourly/daily/weekly): \").lower()\n",
    "qty           = int(input(\"Enter quantity of cars to book: \"))\n",
    "\n",
    "customer_name, car_type, rental_basis, qty"
   ]
  },
  {
   "cell_type": "code",
   "execution_count": 41,
   "id": "34e10878-deaf-412f-a4c6-a1c7dbe76f35",
   "metadata": {},
   "outputs": [],
   "source": [
    "# initialize a global bookings dict\n",
    "customer_bookings = {}"
   ]
  },
  {
   "cell_type": "code",
   "execution_count": 42,
   "id": "c6d8629a-a6f2-49d5-bc96-354e44f53179",
   "metadata": {},
   "outputs": [],
   "source": [
    "booking_result = book_car(car_stock, \n",
    "                          customer_bookings, \n",
    "                          customer_name, \n",
    "                          car_type, qty, \n",
    "                          rental_basis)"
   ]
  },
  {
   "cell_type": "code",
   "execution_count": 43,
   "id": "f8c38b35-0edd-46d2-8c59-9e32f0b42d41",
   "metadata": {},
   "outputs": [
    {
     "name": "stdout",
     "output_type": "stream",
     "text": [
      "+----------+-------------+--------------------------+----------------------------------------+\n",
      "| Car Type | Total Stock | Number of Available Cars |              Rental Rates              |\n",
      "+----------+-------------+--------------------------+----------------------------------------+\n",
      "|   MUV    |      8      |            8             | Hourly: $25, Daily: $100, Weekly: $150 |\n",
      "|  TRUCKS  |      6      |            6             | Hourly: $30, Daily: $120, Weekly: $200 |\n",
      "|   SDN    |      6      |            4             | Hourly: $15, Daily: $75, Weekly: $150  |\n",
      "| COMPACT  |      2      |            2             | Hourly: $10, Daily: $50, Weekly: $125  |\n",
      "+----------+-------------+--------------------------+----------------------------------------+\n"
     ]
    }
   ],
   "source": [
    "print(display_stock(car_stock))"
   ]
  },
  {
   "cell_type": "code",
   "execution_count": null,
   "id": "96d15f72-97e2-43fd-80f7-7da1035bc1aa",
   "metadata": {},
   "outputs": [],
   "source": []
  }
 ],
 "metadata": {
  "kernelspec": {
   "display_name": "Python 3 (ipykernel)",
   "language": "python",
   "name": "python3"
  },
  "language_info": {
   "codemirror_mode": {
    "name": "ipython",
    "version": 3
   },
   "file_extension": ".py",
   "mimetype": "text/x-python",
   "name": "python",
   "nbconvert_exporter": "python",
   "pygments_lexer": "ipython3",
   "version": "3.9.13"
  }
 },
 "nbformat": 4,
 "nbformat_minor": 5
}
