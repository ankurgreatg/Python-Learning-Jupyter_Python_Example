{
 "cells": [
  {
   "cell_type": "code",
   "execution_count": 2,
   "id": "e86e81da-dc97-434a-9ac9-43b27a26452b",
   "metadata": {},
   "outputs": [],
   "source": [
    "import random"
   ]
  },
  {
   "cell_type": "code",
   "execution_count": 1,
   "id": "6f33f931-cc88-4f1b-a2f1-3e40ebe68b37",
   "metadata": {},
   "outputs": [],
   "source": [
    "car_types = {\n",
    "    'COMPACT': {'hourly': 10, 'daily': 50, 'weekly': 125},\n",
    "    'SDN':     {'hourly': 15, 'daily': 75, 'weekly': 150},\n",
    "    'MUV':     {'hourly': 25, 'daily': 100, 'weekly': 150},\n",
    "    'TRUCKS':  {'hourly': 30, 'daily': 120, 'weekly': 200}\n",
    "}"
   ]
  },
  {
   "cell_type": "code",
   "execution_count": 5,
   "id": "39cb1619-fc9a-4218-9665-baa0f29aa669",
   "metadata": {},
   "outputs": [
    {
     "data": {
      "text/plain": [
       "'MUV'"
      ]
     },
     "execution_count": 5,
     "metadata": {},
     "output_type": "execute_result"
    }
   ],
   "source": []
  },
  {
   "cell_type": "code",
   "execution_count": 7,
   "id": "0fd89af8-0fee-4a38-b5cd-0a80bed6a884",
   "metadata": {},
   "outputs": [],
   "source": [
    "def generate_car_stock(num_cars=20):\n",
    "    \n",
    "    car_stock = {}\n",
    "    \n",
    "    for i in range(num_cars):\n",
    "        reg_no             = random.randint(10000, 50000)\n",
    "        car_type           = random.choice(list(car_types.keys()))\n",
    "        available          = 'Yes'\n",
    "        rented_by_customer = None\n",
    "        rented_date        = None\n",
    "        return_date        = None\n",
    "        \n",
    "        car_stock[reg_no] = {\n",
    "            'car_type': car_type,\n",
    "            'available': available,\n",
    "            'rented_by_customer': rented_by_customer,\n",
    "            'rented_date': rented_date,\n",
    "            'return_date': return_date,\n",
    "            'rates': car_types[car_type]\n",
    "        }\n",
    "        \n",
    "    return car_stock"
   ]
  },
  {
   "cell_type": "code",
   "execution_count": 8,
   "id": "8a08323f-fdc5-4aab-a203-98e48815017a",
   "metadata": {},
   "outputs": [],
   "source": [
    "car_stock = generate_car_stock(22)"
   ]
  },
  {
   "cell_type": "code",
   "execution_count": 10,
   "id": "43afbf5e-cad6-4f2c-aac1-374910d218e9",
   "metadata": {},
   "outputs": [],
   "source": [
    "#car_stock"
   ]
  },
  {
   "cell_type": "code",
   "execution_count": 12,
   "id": "ae1f9e13-d20f-4b18-975f-3b2a36a8c099",
   "metadata": {},
   "outputs": [
    {
     "name": "stdout",
     "output_type": "stream",
     "text": [
      "reg No : 25923 , Details : {'car_type': 'TRUCKS', 'available': 'Yes', 'rented_by_customer': None, 'rented_date': None, 'return_date': None, 'rates': {'hourly': 30, 'daily': 120, 'weekly': 200}}\n",
      "\n",
      "reg No : 24182 , Details : {'car_type': 'TRUCKS', 'available': 'Yes', 'rented_by_customer': None, 'rented_date': None, 'return_date': None, 'rates': {'hourly': 30, 'daily': 120, 'weekly': 200}}\n",
      "\n",
      "reg No : 25944 , Details : {'car_type': 'MUV', 'available': 'Yes', 'rented_by_customer': None, 'rented_date': None, 'return_date': None, 'rates': {'hourly': 25, 'daily': 100, 'weekly': 150}}\n",
      "\n",
      "reg No : 43363 , Details : {'car_type': 'COMPACT', 'available': 'Yes', 'rented_by_customer': None, 'rented_date': None, 'return_date': None, 'rates': {'hourly': 10, 'daily': 50, 'weekly': 125}}\n",
      "\n",
      "reg No : 20071 , Details : {'car_type': 'TRUCKS', 'available': 'Yes', 'rented_by_customer': None, 'rented_date': None, 'return_date': None, 'rates': {'hourly': 30, 'daily': 120, 'weekly': 200}}\n",
      "\n",
      "reg No : 39626 , Details : {'car_type': 'MUV', 'available': 'Yes', 'rented_by_customer': None, 'rented_date': None, 'return_date': None, 'rates': {'hourly': 25, 'daily': 100, 'weekly': 150}}\n",
      "\n",
      "reg No : 43373 , Details : {'car_type': 'COMPACT', 'available': 'Yes', 'rented_by_customer': None, 'rented_date': None, 'return_date': None, 'rates': {'hourly': 10, 'daily': 50, 'weekly': 125}}\n",
      "\n",
      "reg No : 23297 , Details : {'car_type': 'MUV', 'available': 'Yes', 'rented_by_customer': None, 'rented_date': None, 'return_date': None, 'rates': {'hourly': 25, 'daily': 100, 'weekly': 150}}\n",
      "\n",
      "reg No : 29245 , Details : {'car_type': 'SDN', 'available': 'Yes', 'rented_by_customer': None, 'rented_date': None, 'return_date': None, 'rates': {'hourly': 15, 'daily': 75, 'weekly': 150}}\n",
      "\n",
      "reg No : 14431 , Details : {'car_type': 'SDN', 'available': 'Yes', 'rented_by_customer': None, 'rented_date': None, 'return_date': None, 'rates': {'hourly': 15, 'daily': 75, 'weekly': 150}}\n",
      "\n",
      "reg No : 33324 , Details : {'car_type': 'MUV', 'available': 'Yes', 'rented_by_customer': None, 'rented_date': None, 'return_date': None, 'rates': {'hourly': 25, 'daily': 100, 'weekly': 150}}\n",
      "\n",
      "reg No : 42997 , Details : {'car_type': 'TRUCKS', 'available': 'Yes', 'rented_by_customer': None, 'rented_date': None, 'return_date': None, 'rates': {'hourly': 30, 'daily': 120, 'weekly': 200}}\n",
      "\n",
      "reg No : 19818 , Details : {'car_type': 'TRUCKS', 'available': 'Yes', 'rented_by_customer': None, 'rented_date': None, 'return_date': None, 'rates': {'hourly': 30, 'daily': 120, 'weekly': 200}}\n",
      "\n",
      "reg No : 28208 , Details : {'car_type': 'MUV', 'available': 'Yes', 'rented_by_customer': None, 'rented_date': None, 'return_date': None, 'rates': {'hourly': 25, 'daily': 100, 'weekly': 150}}\n",
      "\n",
      "reg No : 30634 , Details : {'car_type': 'TRUCKS', 'available': 'Yes', 'rented_by_customer': None, 'rented_date': None, 'return_date': None, 'rates': {'hourly': 30, 'daily': 120, 'weekly': 200}}\n",
      "\n",
      "reg No : 30070 , Details : {'car_type': 'COMPACT', 'available': 'Yes', 'rented_by_customer': None, 'rented_date': None, 'return_date': None, 'rates': {'hourly': 10, 'daily': 50, 'weekly': 125}}\n",
      "\n",
      "reg No : 11130 , Details : {'car_type': 'TRUCKS', 'available': 'Yes', 'rented_by_customer': None, 'rented_date': None, 'return_date': None, 'rates': {'hourly': 30, 'daily': 120, 'weekly': 200}}\n",
      "\n",
      "reg No : 40484 , Details : {'car_type': 'TRUCKS', 'available': 'Yes', 'rented_by_customer': None, 'rented_date': None, 'return_date': None, 'rates': {'hourly': 30, 'daily': 120, 'weekly': 200}}\n",
      "\n",
      "reg No : 10253 , Details : {'car_type': 'TRUCKS', 'available': 'Yes', 'rented_by_customer': None, 'rented_date': None, 'return_date': None, 'rates': {'hourly': 30, 'daily': 120, 'weekly': 200}}\n",
      "\n",
      "reg No : 14579 , Details : {'car_type': 'COMPACT', 'available': 'Yes', 'rented_by_customer': None, 'rented_date': None, 'return_date': None, 'rates': {'hourly': 10, 'daily': 50, 'weekly': 125}}\n",
      "\n",
      "reg No : 17463 , Details : {'car_type': 'COMPACT', 'available': 'Yes', 'rented_by_customer': None, 'rented_date': None, 'return_date': None, 'rates': {'hourly': 10, 'daily': 50, 'weekly': 125}}\n",
      "\n",
      "reg No : 31855 , Details : {'car_type': 'MUV', 'available': 'Yes', 'rented_by_customer': None, 'rented_date': None, 'return_date': None, 'rates': {'hourly': 25, 'daily': 100, 'weekly': 150}}\n",
      "\n"
     ]
    }
   ],
   "source": [
    "# example of unpacking values from the dict\n",
    "for reg_no, details in car_stock.items():\n",
    "    print(f\"reg No : {reg_no} , Details : {details}\\n\")"
   ]
  },
  {
   "cell_type": "code",
   "execution_count": null,
   "id": "0d578f68-a59a-4ba3-9ecc-641a7e20692b",
   "metadata": {},
   "outputs": [],
   "source": []
  }
 ],
 "metadata": {
  "kernelspec": {
   "display_name": "Python 3 (ipykernel)",
   "language": "python",
   "name": "python3"
  },
  "language_info": {
   "codemirror_mode": {
    "name": "ipython",
    "version": 3
   },
   "file_extension": ".py",
   "mimetype": "text/x-python",
   "name": "python",
   "nbconvert_exporter": "python",
   "pygments_lexer": "ipython3",
   "version": "3.9.13"
  }
 },
 "nbformat": 4,
 "nbformat_minor": 5
}
