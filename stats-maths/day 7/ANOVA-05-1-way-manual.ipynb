{
 "cells": [
  {
   "cell_type": "code",
   "execution_count": 1,
   "id": "3a22346f-6882-48ea-bc5e-3240767e3d50",
   "metadata": {},
   "outputs": [],
   "source": [
    "import numpy as np\n",
    "import pandas as pd\n",
    "import matplotlib.pyplot as plt\n",
    "from scipy.stats import f"
   ]
  },
  {
   "cell_type": "code",
   "execution_count": 13,
   "id": "2e05c23d-4f93-49d9-be40-fa81336f77ee",
   "metadata": {},
   "outputs": [],
   "source": [
    "# Set the random seed for reproducibility\n",
    "np.random.seed(44)"
   ]
  },
  {
   "cell_type": "code",
   "execution_count": 14,
   "id": "a02195f1-b342-4d39-8b24-8805b85a5c9f",
   "metadata": {},
   "outputs": [],
   "source": [
    "# Generate synthetic data\n",
    "data = {\n",
    "    'Category': np.repeat(['A', 'B', 'C', 'D'], 25),\n",
    "    'Value': np.hstack([\n",
    "        np.random.normal(loc=5, scale=1, size=25),\n",
    "        np.random.normal(loc=5.5, scale=1.2, size=25),\n",
    "        np.random.normal(loc=6, scale=0.8, size=25),\n",
    "        np.random.normal(loc=5.8, scale=1.1, size=25)\n",
    "    ])\n",
    "}"
   ]
  },
  {
   "cell_type": "code",
   "execution_count": 15,
   "id": "e8739a15-1a48-4397-a5cd-a8b042e4ca4f",
   "metadata": {},
   "outputs": [
    {
     "data": {
      "text/html": [
       "<div>\n",
       "<style scoped>\n",
       "    .dataframe tbody tr th:only-of-type {\n",
       "        vertical-align: middle;\n",
       "    }\n",
       "\n",
       "    .dataframe tbody tr th {\n",
       "        vertical-align: top;\n",
       "    }\n",
       "\n",
       "    .dataframe thead th {\n",
       "        text-align: right;\n",
       "    }\n",
       "</style>\n",
       "<table border=\"1\" class=\"dataframe\">\n",
       "  <thead>\n",
       "    <tr style=\"text-align: right;\">\n",
       "      <th></th>\n",
       "      <th>Category</th>\n",
       "      <th>Value</th>\n",
       "    </tr>\n",
       "  </thead>\n",
       "  <tbody>\n",
       "    <tr>\n",
       "      <th>0</th>\n",
       "      <td>A</td>\n",
       "      <td>4.249385</td>\n",
       "    </tr>\n",
       "    <tr>\n",
       "      <th>1</th>\n",
       "      <td>A</td>\n",
       "      <td>6.316357</td>\n",
       "    </tr>\n",
       "    <tr>\n",
       "      <th>2</th>\n",
       "      <td>A</td>\n",
       "      <td>6.246140</td>\n",
       "    </tr>\n",
       "    <tr>\n",
       "      <th>3</th>\n",
       "      <td>A</td>\n",
       "      <td>3.395084</td>\n",
       "    </tr>\n",
       "    <tr>\n",
       "      <th>4</th>\n",
       "      <td>A</td>\n",
       "      <td>3.531856</td>\n",
       "    </tr>\n",
       "    <tr>\n",
       "      <th>...</th>\n",
       "      <td>...</td>\n",
       "      <td>...</td>\n",
       "    </tr>\n",
       "    <tr>\n",
       "      <th>95</th>\n",
       "      <td>D</td>\n",
       "      <td>6.109303</td>\n",
       "    </tr>\n",
       "    <tr>\n",
       "      <th>96</th>\n",
       "      <td>D</td>\n",
       "      <td>6.458510</td>\n",
       "    </tr>\n",
       "    <tr>\n",
       "      <th>97</th>\n",
       "      <td>D</td>\n",
       "      <td>6.929892</td>\n",
       "    </tr>\n",
       "    <tr>\n",
       "      <th>98</th>\n",
       "      <td>D</td>\n",
       "      <td>5.807636</td>\n",
       "    </tr>\n",
       "    <tr>\n",
       "      <th>99</th>\n",
       "      <td>D</td>\n",
       "      <td>3.871359</td>\n",
       "    </tr>\n",
       "  </tbody>\n",
       "</table>\n",
       "<p>100 rows × 2 columns</p>\n",
       "</div>"
      ],
      "text/plain": [
       "   Category     Value\n",
       "0         A  4.249385\n",
       "1         A  6.316357\n",
       "2         A  6.246140\n",
       "3         A  3.395084\n",
       "4         A  3.531856\n",
       "..      ...       ...\n",
       "95        D  6.109303\n",
       "96        D  6.458510\n",
       "97        D  6.929892\n",
       "98        D  5.807636\n",
       "99        D  3.871359\n",
       "\n",
       "[100 rows x 2 columns]"
      ]
     },
     "execution_count": 15,
     "metadata": {},
     "output_type": "execute_result"
    }
   ],
   "source": [
    "df = pd.DataFrame(data)\n",
    "df"
   ]
  },
  {
   "cell_type": "markdown",
   "id": "8168f7bd-bed9-46f1-8a8d-b5219e267510",
   "metadata": {},
   "source": [
    "#### Calculate Group Means, Overall Mean, and Sum of Squares"
   ]
  },
  {
   "cell_type": "code",
   "execution_count": 16,
   "id": "424f4af5-71e1-4087-bfbc-2ede75276b4c",
   "metadata": {},
   "outputs": [
    {
     "data": {
      "text/plain": [
       "5.472267444335645"
      ]
     },
     "execution_count": 16,
     "metadata": {},
     "output_type": "execute_result"
    }
   ],
   "source": [
    "# Calculate the overall mean\n",
    "overall_mean = df['Value'].mean()\n",
    "overall_mean"
   ]
  },
  {
   "cell_type": "code",
   "execution_count": 17,
   "id": "c0082daa-9fb2-4eb6-8841-ba40d1cf369a",
   "metadata": {},
   "outputs": [
    {
     "data": {
      "text/plain": [
       "Category\n",
       "A    4.785683\n",
       "B    5.488719\n",
       "C    6.097904\n",
       "D    5.516764\n",
       "Name: Value, dtype: float64"
      ]
     },
     "execution_count": 17,
     "metadata": {},
     "output_type": "execute_result"
    }
   ],
   "source": [
    "# Calculate the means for each group\n",
    "group_means = df.groupby('Category')['Value'].mean()\n",
    "group_means"
   ]
  },
  {
   "cell_type": "code",
   "execution_count": 18,
   "id": "960d3008-1283-4fb7-bf59-70c05a4af6e2",
   "metadata": {},
   "outputs": [],
   "source": [
    "# Calculate the between-group sum of squares (SSB)\n",
    "SSB = sum(df.groupby('Category').size() * (group_means - overall_mean) ** 2)"
   ]
  },
  {
   "cell_type": "code",
   "execution_count": 19,
   "id": "a8be6d1a-b8e1-4521-8f21-e744590c501a",
   "metadata": {},
   "outputs": [],
   "source": [
    "# Calculate the within-group sum of squares (SSW)\n",
    "SSW = sum((df['Value'] - df.groupby('Category')['Value'].transform('mean')) ** 2)"
   ]
  },
  {
   "cell_type": "code",
   "execution_count": 20,
   "id": "ec0415f1-040b-452a-bf83-d303b12354b9",
   "metadata": {},
   "outputs": [],
   "source": [
    "# Degrees of freedom\n",
    "df_between = len(group_means) - 1\n",
    "df_within  = len(df) - len(group_means)"
   ]
  },
  {
   "cell_type": "code",
   "execution_count": 21,
   "id": "cc33b2fc-6887-41d6-a5f8-1a4119df002b",
   "metadata": {},
   "outputs": [],
   "source": [
    "# Mean squares\n",
    "MSB = SSB / df_between\n",
    "MSW = SSW / df_within"
   ]
  },
  {
   "cell_type": "code",
   "execution_count": 22,
   "id": "0a3d796c-0027-4569-81a5-41f75d37d609",
   "metadata": {},
   "outputs": [
    {
     "name": "stdout",
     "output_type": "stream",
     "text": [
      "F-statistic: 6.2459\n"
     ]
    }
   ],
   "source": [
    "# F-statistic\n",
    "F_statistic = MSB / MSW\n",
    "print(f\"F-statistic: {F_statistic:.4f}\")"
   ]
  },
  {
   "cell_type": "markdown",
   "id": "b5c01313-46a1-488a-9b96-7a90972d4c9c",
   "metadata": {},
   "source": [
    "#### Calculate the p-value"
   ]
  },
  {
   "cell_type": "code",
   "execution_count": 24,
   "id": "2510da23-ffa2-4f26-959b-9744fc396151",
   "metadata": {},
   "outputs": [
    {
     "name": "stdout",
     "output_type": "stream",
     "text": [
      "P-value: 0.000642\n"
     ]
    }
   ],
   "source": [
    "# Calculate the p-value\n",
    "p_value = 1 - f.cdf(F_statistic, df_between, df_within)\n",
    "print(f\"P-value: {p_value:.6f}\")"
   ]
  },
  {
   "cell_type": "markdown",
   "id": "11e4e2c8-40fc-4f56-8438-06163d0528a4",
   "metadata": {},
   "source": [
    "#### Plot the F-Distribution"
   ]
  },
  {
   "cell_type": "code",
   "execution_count": 25,
   "id": "56f28a8a-edab-4124-a10a-e1c28ec0a913",
   "metadata": {},
   "outputs": [],
   "source": [
    "# Critical value for 95% significance level\n",
    "alpha = 0.05\n",
    "F_critical = f.ppf(1 - alpha, df_between, df_within)"
   ]
  },
  {
   "cell_type": "code",
   "execution_count": 26,
   "id": "31bfc0fb-3a66-4e9b-8385-f7ff60f8e8d0",
   "metadata": {},
   "outputs": [
    {
     "data": {
      "image/png": "[encoded data removed]",
      "text/plain": [
       "<Figure size 1000x600 with 1 Axes>"
      ]
     },
     "metadata": {},
     "output_type": "display_data"
    }
   ],
   "source": [
    "# Plot the F-distribution\n",
    "x = np.linspace(0, 10, 1000)\n",
    "y = f.pdf(x, df_between, df_within)\n",
    "\n",
    "plt.figure(figsize=(10, 6))\n",
    "plt.plot(x, y, label='F-distribution')\n",
    "plt.axvline(F_statistic, color='r', linestyle='--', label=f'F-statistic: {F_statistic:.4f}')\n",
    "plt.axvline(F_critical, color='g', linestyle='--', label=f'Critical value (95%): {F_critical:.4f}')\n",
    "plt.title('F-distribution with F-statistic and Critical Value')\n",
    "plt.xlabel('F-value')\n",
    "plt.ylabel('Probability Density')\n",
    "plt.legend()\n",
    "plt.grid(True)\n",
    "plt.show()"
   ]
  },
  {
   "cell_type": "markdown",
   "id": "274dcca6-4575-449d-8c5c-d1d96752bec2",
   "metadata": {},
   "source": [
    "#### Print the PDF and CDF for the Computed F-Statistic"
   ]
  },
  {
   "cell_type": "code",
   "execution_count": 27,
   "id": "bf123577-c80b-4a7b-b689-1abdf847bfa4",
   "metadata": {},
   "outputs": [
    {
     "name": "stdout",
     "output_type": "stream",
     "text": [
      "PDF value for F-statistic: 0.0008\n",
      "CDF value for F-statistic: 0.9994\n"
     ]
    }
   ],
   "source": [
    "# Calculate the PDF and CDF for the computed F-statistic\n",
    "pdf_value = f.pdf(F_statistic, df_between, df_within)\n",
    "cdf_value = f.cdf(F_statistic, df_between, df_within)\n",
    "\n",
    "print(f\"PDF value for F-statistic: {pdf_value:.4f}\")\n",
    "print(f\"CDF value for F-statistic: {cdf_value:.4f}\")"
   ]
  },
  {
   "cell_type": "markdown",
   "id": "59a5472b-a0f2-49b0-8fcb-29ba45c86b0e",
   "metadata": {},
   "source": [
    "#### Verify the Results Using scipy.stats.f_oneway"
   ]
  },
  {
   "cell_type": "code",
   "execution_count": 28,
   "id": "6605be00-e92c-4751-a6d2-ae9d46bcb39a",
   "metadata": {},
   "outputs": [],
   "source": [
    "from scipy.stats import f_oneway"
   ]
  },
  {
   "cell_type": "code",
   "execution_count": 29,
   "id": "14b33cba-af6c-4f05-9fc9-b0b436140ff3",
   "metadata": {},
   "outputs": [
    {
     "name": "stdout",
     "output_type": "stream",
     "text": [
      "Scipy F-statistic: 6.2459\n",
      "Scipy P-value: 0.0006\n"
     ]
    }
   ],
   "source": [
    "# Perform ANOVA using scipy\n",
    "F_stat_scipy, p_value_scipy = f_oneway(\n",
    "    df[df['Category'] == 'A']['Value'],\n",
    "    df[df['Category'] == 'B']['Value'],\n",
    "    df[df['Category'] == 'C']['Value'],\n",
    "    df[df['Category'] == 'D']['Value']\n",
    ")\n",
    "\n",
    "print(f\"Scipy F-statistic: {F_stat_scipy:.4f}\")\n",
    "print(f\"Scipy P-value: {p_value_scipy:.4f}\")"
   ]
  },
  {
   "cell_type": "code",
   "execution_count": null,
   "id": "e4e9e8c8-b9f7-42cd-9ea0-3582fb3aceb9",
   "metadata": {},
   "outputs": [],
   "source": []
  },
  {
   "cell_type": "code",
   "execution_count": null,
   "id": "36978422-c379-4afd-8474-35a50c40dbe6",
   "metadata": {},
   "outputs": [],
   "source": []
  }
 ],
 "metadata": {
  "kernelspec": {
   "display_name": "Python 3 (ipykernel)",
   "language": "python",
   "name": "python3"
  },
  "language_info": {
   "codemirror_mode": {
    "name": "ipython",
    "version": 3
   },
   "file_extension": ".py",
   "mimetype": "text/x-python",
   "name": "python",
   "nbconvert_exporter": "python",
   "pygments_lexer": "ipython3",
   "version": "3.9.13"
  }
 },
 "nbformat": 4,
 "nbformat_minor": 5
}
